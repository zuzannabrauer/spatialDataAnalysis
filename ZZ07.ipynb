{
 "cells": [
  {
   "cell_type": "markdown",
   "id": "2abe72cc",
   "metadata": {
    "deletable": false,
    "editable": false,
    "nbgrader": {
     "cell_type": "markdown",
     "checksum": "4bc4ef312ccdd965a2df57a87c78b2a4",
     "grade": false,
     "grade_id": "cell-fcd2666579131b77",
     "locked": true,
     "schema_version": 3,
     "solution": false,
     "task": false
    },
    "tags": []
   },
   "source": [
    "# Analiza danych przestrzennych - ćwiczenia laboratoryjne 2023/2024\n",
    "\n",
    "Ten notatnik zalicza się do grupy zestawów zadań, na podstawie których odbywa się zaliczenie ćwiczeń i podlega zwrotowi do oceny w ustalonym na zajęciach terminie.\n",
    "\n",
    "Uwagi i wytyczne ogólne dotyczące uzupełniania i oceny notatnika:\n",
    "- Podczas wykonywania zadań należy korzystać wyłącznie z pakietów zaimportowanych na początku notatnika oraz z pakietów wchodzących w skład standardowej biblioteki Pythona, które można zaimportować samodzielnie we wskazanej komórce notatnika.\n",
    "- Swoje rozwiązania należy wprowadzać wyłącznie w miejce następujących fragmentów kodu:<br/> `# YOUR CODE HERE`<br/> `raise NotImplementedError()`<br/> \n",
    "a odpowiedzi tekstowe w komórkach oznaczonych hasłem:<br/> \n",
    "`YOUR ANSWER HERE`<br/> \n",
    "Nie należy w żaden sposób modyfikować pozostałych fragmentów kodu oraz innych elementów notatnika, w szczególności dodawać lub usuwać komórek oraz zmieniać nazwy pliku.\n",
    "- Jeżeli zestaw zadań wymaga skorzystania z fragmentów kodu opracowanego w ramach wcześniejszych zestawów zadań należy je umieścić we wskazanej komórce notatnika.\n",
    "- Otrzymywane wyniki i odpowiedzi mają być rezultatem wykonania napisanego kodu, odpowiedzi uzupełniane manualnie nie podlegają ocenie.\n",
    "- Zawarte w notatniku automatyczne testy mają charakter poglądowy. Dotyczą one wybranych aspektów zadań i mają na celu wyłapać podstawowe błędy. Przejście przez kod wszystkich testów nie oznacza, że zadanie jest wykonane w całości poprawnie i zostanie ocenione na maksymalną liczbę punktów.\n",
    "- Zadania należy wykonać w taki sposób, aby podczas wykonywania kodu nie zostały wyświetlone żadne ostrzeżenia.\n",
    "- Zadania, które powodują wyświetlenie komunikatu o błędzie przerywającym wykonywanie kodu nie podlegają ocenie.\n",
    "\n",
    "Uwagi i wytyczne ogólne dotyczące wizualizacji wyników:\n",
    "- Wszystkie wykresy powinny być wykonane w jednolitym, przejrzystym i czytelnym stylu, posiadać odpowiednio dobrane proporcje i zakresy wartości osi.\n",
    "- Figury powinny mieć ustawione białe tło, tak, aby niezależnie od ustawień notatnika wszystkie elementy wykresów były dobrze widoczne (domyślnie tło jest przeźroczyste co może powodować problemy w notatnikach z ustawionym ciemnym tłem). Rozmiar poziomy figur nie powinien przekraczać 20 cali.\n",
    "- Wykresy oraz ich osie powinny mieć nadane tytuły. Jeżeli w obrębie figury znajduje się więcej niż jeden wykres to figura również powinna mieć nadany tytuł.\n",
    "- Zakresy osi wykresów przedstawiających rozkłady punktów w przestrzeni powinny być docięte do granic obszaru, na którym został wygenerowany proces punktowy.\n",
    "- Proporcje osi wykresów przedstawiających rozkłady punktów w przestrzeni powinny być dobrane tak, aby wykresy odzwierciedlały rzeczywisty rozkład punktów w przestrzeni. Nie należy osiągać tego efektu manipulując rozmiarem całej figury.\n",
    "\n",
    "Przed odesłaniem zestawu zadań do oceny proszę uzupełnić komórkę z danymi autorów rozwiązania (nazwa zespołu oraz imiona, nazwiska i numery indeksów członków zespołu) oraz upewnić się, że notatnik działa zgodnie z oczekiwaniami. W tym celu należy skorzystać z opcji **Restart Kernel and Run All Cells...** dostępnej na górnej belce notatnika pod symbolem $\\blacktriangleright\\blacktriangleright$."
   ]
  },
  {
   "cell_type": "raw",
   "id": "42e48f80",
   "metadata": {},
   "source": [
    "Nazwa zespołu:\n",
    "Członkowie:"
   ]
  },
  {
   "cell_type": "markdown",
   "id": "b119bc46",
   "metadata": {
    "deletable": false,
    "editable": false,
    "nbgrader": {
     "cell_type": "markdown",
     "checksum": "eddc8826810e4a6f7bf68319da334bd9",
     "grade": false,
     "grade_id": "cell-109006d425e5cf83",
     "locked": true,
     "schema_version": 3,
     "solution": false,
     "task": false
    },
    "tags": []
   },
   "source": [
    "---"
   ]
  },
  {
   "cell_type": "markdown",
   "id": "09ae627f-7781-432c-92be-054e5c5f19d0",
   "metadata": {
    "deletable": false,
    "editable": false,
    "nbgrader": {
     "cell_type": "markdown",
     "checksum": "90070f50df75453cbaf7b6a05fb047a1",
     "grade": false,
     "grade_id": "cell-be413733df21fa86",
     "locked": true,
     "schema_version": 3,
     "solution": false,
     "task": false
    },
    "tags": []
   },
   "source": [
    "## Zestaw zadań 7: Analiza danych przestrzennych z wykorzystaniem dedykowanych pakietów (część 1)"
   ]
  },
  {
   "cell_type": "code",
   "execution_count": 1,
   "id": "1d9566ae-0c1b-4f68-9203-c5924a3651ae",
   "metadata": {
    "deletable": false,
    "editable": false,
    "nbgrader": {
     "cell_type": "code",
     "checksum": "10825f8e9524da62cc7b110af8609cda",
     "grade": false,
     "grade_id": "cell-baaf088fa7f91aec",
     "locked": true,
     "schema_version": 3,
     "solution": false,
     "task": false
    },
    "tags": []
   },
   "outputs": [],
   "source": [
    "import numpy as np\n",
    "import pandas as pd\n",
    "import scipy as sp\n",
    "import matplotlib as mpl\n",
    "import matplotlib.pyplot as plt\n",
    "import seaborn as sns\n",
    "import geopandas as gpd"
   ]
  },
  {
   "cell_type": "code",
   "execution_count": 2,
   "id": "316bb8bc-c226-49f2-9e30-21fcf0edd040",
   "metadata": {},
   "outputs": [],
   "source": [
    "# Miejsce do importu pakietów wchodzących w skład standardowej biblioteki Pythona oraz ustawienie opcji wykorzystywanych pakietów"
   ]
  },
  {
   "cell_type": "markdown",
   "id": "11653a05-5bd0-4169-87cb-e5173bd99c66",
   "metadata": {
    "deletable": false,
    "editable": false,
    "nbgrader": {
     "cell_type": "markdown",
     "checksum": "bd31aab2a2dd6f47b35f0756046d03e0",
     "grade": false,
     "grade_id": "cell-3d9b6dc04e7b8e64",
     "locked": true,
     "schema_version": 3,
     "solution": false,
     "task": false
    },
    "tags": []
   },
   "source": [
    "### Zadanie 1: Import i przygotowanie danych (8 pkt)\n",
    "\n",
    "Wykorzystując funkcję `geopandas.read_file()` zaimportuj do notatnika dane z trzech załączonych do niego plików i przygotuj na ich podstawie trzy tablice zawierające wybrane dane dotyczące województw, miast oraz dwóch rzek - Wisły i Odry:\n",
    "\n",
    "1) Tablica `wojewodztwa` zawierająca następujące kolumny:\n",
    "    - \"Nazwa\" - nazwy województw\n",
    "    - \"geometry\" - geometria obiektów\n",
    "<br/>\n",
    "<br/>\n",
    "2) Tablica `miasta` zawierająca następujące kolumny:\n",
    "    - \"Nazwa\" - nazwy miast\n",
    "    - \"geometry\" - geometria obiektów\n",
    "<br/>\n",
    "<br/>\n",
    "3) Tablica `rzeki` zawierająca następujące kolumny:\n",
    "    - \"Nazwa\" - nazwy rzek\n",
    "    - \"geometry\" - geometria obiektów\n",
    "\n",
    "Wyświetl przygotowane tablice.\n",
    "\n",
    "Uwagi do wykonania zadania:\n",
    " - Pliki zawierają więcej danych niż opisane wyżej tablice. W wynikowych tablicach nie powinny znaleźć się zbędne dane.\n",
    " - Poprawny import polskich nazw może wymagać ustawienia odpowiedniej wartości argumentu `encoding` (utf-8 lub 1250) podczas wywoływania funkcji `geopandas.read_file()`."
   ]
  },
  {
   "cell_type": "code",
   "execution_count": 3,
   "id": "1ec93e1d-9486-4e87-a1f2-ebdfdcc82dcc",
   "metadata": {
    "deletable": false,
    "nbgrader": {
     "cell_type": "code",
     "checksum": "91995b9564d0d69ffc6cf79b88b3fdb6",
     "grade": false,
     "grade_id": "cell-9c5827e1303cedf5",
     "locked": false,
     "schema_version": 3,
     "solution": true,
     "task": false
    },
    "tags": []
   },
   "outputs": [
    {
     "name": "stdout",
     "output_type": "stream",
     "text": [
      "                  Nazwa                                           geometry\n",
      "0               śląskie  MULTIPOLYGON (((18.91685 51.09608, 18.91677 51...\n",
      "1              opolskie  POLYGON ((17.81203 51.18669, 17.81209 51.18670...\n",
      "2        świętokrzyskie  POLYGON ((19.70430 50.75239, 19.70443 50.75248...\n",
      "3             pomorskie  POLYGON ((17.66483 54.78297, 17.66653 54.78334...\n",
      "4             podlaskie  POLYGON ((21.98108 52.97859, 21.98078 52.97861...\n",
      "5    zachodniopomorskie  POLYGON ((14.81157 54.04037, 14.89525 54.05570...\n",
      "6          dolnośląskie  POLYGON ((15.10534 51.42730, 15.10540 51.42732...\n",
      "7         wielkopolskie  POLYGON ((16.71447 53.29913, 16.71447 53.29920...\n",
      "8          podkarpackie  POLYGON ((22.03538 50.80675, 22.03550 50.80681...\n",
      "9           małopolskie  POLYGON ((19.97230 50.51625, 19.97227 50.51633...\n",
      "10  warmińsko-mazurskie  POLYGON ((21.55932 54.32250, 21.55939 54.32250...\n",
      "11              łódzkie  POLYGON ((19.99385 51.18395, 19.99410 51.18395...\n",
      "12          mazowieckie  POLYGON ((21.98576 52.97722, 21.98587 52.97708...\n",
      "13   kujawsko-pomorskie  POLYGON ((17.65670 53.57115, 17.65672 53.57115...\n",
      "14            lubelskie  POLYGON ((21.61554 51.61756, 21.62194 51.62192...\n",
      "15             lubuskie  POLYGON ((15.10534 51.42730, 15.10521 51.42727...\n"
     ]
    }
   ],
   "source": [
    "df_woj=gpd.read_file(\"Wojewodztwa.zip\")\n",
    "df_woj\n",
    "wojewodztwa=gpd.GeoDataFrame({'Nazwa':df_woj[\"JPT_NAZWA_\"],'geometry':df_woj[\"geometry\"]})\n",
    "print(wojewodztwa)"
   ]
  },
  {
   "cell_type": "code",
   "execution_count": 4,
   "id": "2352ff55-0a51-4e5a-8840-93532d8f258f",
   "metadata": {
    "deletable": false,
    "editable": false,
    "nbgrader": {
     "cell_type": "code",
     "checksum": "21f7ae43f1dd7bd0ebc13ae775519e55",
     "grade": true,
     "grade_id": "cell-749fa2b3c9af223d",
     "locked": true,
     "points": 2,
     "schema_version": 3,
     "solution": false,
     "task": false
    },
    "tags": []
   },
   "outputs": [],
   "source": [
    "# Komórka testowa\n",
    "assert type(wojewodztwa) == gpd.geodataframe.GeoDataFrame\n",
    "assert wojewodztwa.shape == (16, 2)\n",
    "assert list(wojewodztwa.columns) == ['Nazwa', 'geometry']"
   ]
  },
  {
   "cell_type": "code",
   "execution_count": 5,
   "id": "6e111c86-3104-49a6-a1f1-58d0a8297b7b",
   "metadata": {
    "deletable": false,
    "nbgrader": {
     "cell_type": "code",
     "checksum": "27d03effc70bea62811816fbf75bb7a7",
     "grade": false,
     "grade_id": "cell-2f6e5df2fa030235",
     "locked": false,
     "schema_version": 3,
     "solution": true,
     "task": false
    },
    "tags": []
   },
   "outputs": [],
   "source": [
    "df_miej=gpd.read_file(\"Miejscowosci.zip\")\n",
    "df_miej\n",
    "miasta= df_miej[df_miej[\"rodzaj\"]=='miasto']\n",
    "miasta = gpd.GeoDataFrame({'Nazwa':miasta[\"nazwaGlown\"],'geometry':miasta[\"geometry\"]})"
   ]
  },
  {
   "cell_type": "code",
   "execution_count": 6,
   "id": "d79e4f55-fdaa-486b-94a6-8140f4ec5312",
   "metadata": {
    "deletable": false,
    "editable": false,
    "nbgrader": {
     "cell_type": "code",
     "checksum": "846cebe0f3207828e56c1142a39e4ff1",
     "grade": true,
     "grade_id": "cell-e319ae24aca025a4",
     "locked": true,
     "points": 3,
     "schema_version": 3,
     "solution": false,
     "task": false
    },
    "tags": []
   },
   "outputs": [],
   "source": [
    "# Komórka testowa\n",
    "assert type(miasta) == gpd.geodataframe.GeoDataFrame\n",
    "assert miasta.shape == (964, 2)\n",
    "assert list(miasta.columns) == ['Nazwa', 'geometry']"
   ]
  },
  {
   "cell_type": "code",
   "execution_count": 7,
   "id": "3cc15ec3-a98d-4100-9007-3ed778c9d028",
   "metadata": {
    "deletable": false,
    "nbgrader": {
     "cell_type": "code",
     "checksum": "1972701f522ce759c09e3d2d934d2b96",
     "grade": false,
     "grade_id": "cell-e02cfe1cd85e0837",
     "locked": false,
     "schema_version": 3,
     "solution": true,
     "task": false
    },
    "tags": []
   },
   "outputs": [
    {
     "data": {
      "text/html": [
       "<div>\n",
       "<style scoped>\n",
       "    .dataframe tbody tr th:only-of-type {\n",
       "        vertical-align: middle;\n",
       "    }\n",
       "\n",
       "    .dataframe tbody tr th {\n",
       "        vertical-align: top;\n",
       "    }\n",
       "\n",
       "    .dataframe thead th {\n",
       "        text-align: right;\n",
       "    }\n",
       "</style>\n",
       "<table border=\"1\" class=\"dataframe\">\n",
       "  <thead>\n",
       "    <tr style=\"text-align: right;\">\n",
       "      <th></th>\n",
       "      <th>Nazwa</th>\n",
       "      <th>geometry</th>\n",
       "    </tr>\n",
       "  </thead>\n",
       "  <tbody>\n",
       "    <tr>\n",
       "      <th>0</th>\n",
       "      <td>Odra</td>\n",
       "      <td>MULTILINESTRING ((17.52056 49.61373, 17.52159 ...</td>\n",
       "    </tr>\n",
       "    <tr>\n",
       "      <th>1</th>\n",
       "      <td>Wisła</td>\n",
       "      <td>MULTILINESTRING ((19.00368 49.60595, 19.00338 ...</td>\n",
       "    </tr>\n",
       "  </tbody>\n",
       "</table>\n",
       "</div>"
      ],
      "text/plain": [
       "   Nazwa                                           geometry\n",
       "0   Odra  MULTILINESTRING ((17.52056 49.61373, 17.52159 ...\n",
       "1  Wisła  MULTILINESTRING ((19.00368 49.60595, 19.00338 ..."
      ]
     },
     "execution_count": 7,
     "metadata": {},
     "output_type": "execute_result"
    }
   ],
   "source": [
    "# Rzeki\n",
    " "
   ]
  },
  {
   "cell_type": "code",
   "execution_count": 8,
   "id": "d8d648ef-153e-4bf4-93d2-38e7119d0c62",
   "metadata": {
    "deletable": false,
    "editable": false,
    "nbgrader": {
     "cell_type": "code",
     "checksum": "7fc4f07d87bbaedba752879187241fdc",
     "grade": true,
     "grade_id": "cell-672b9a190228f2cd",
     "locked": true,
     "points": 3,
     "schema_version": 3,
     "solution": false,
     "task": false
    },
    "tags": []
   },
   "outputs": [],
   "source": [
    "# Komórka testowa\n",
    "assert type(rzeki) == gpd.geodataframe.GeoDataFrame\n",
    "assert rzeki.shape == (2, 2)\n",
    "assert list(rzeki.columns) == ['Nazwa', 'geometry']"
   ]
  },
  {
   "cell_type": "markdown",
   "id": "72b84d5f-64b5-4d7b-b223-06b5562e2348",
   "metadata": {
    "deletable": false,
    "editable": false,
    "nbgrader": {
     "cell_type": "markdown",
     "checksum": "f91fa6e43f9fa0a8ed68cdfcd92d296f",
     "grade": false,
     "grade_id": "cell-fbcc3b78e9c763b1",
     "locked": true,
     "schema_version": 3,
     "solution": false,
     "task": false
    },
    "tags": []
   },
   "source": [
    "### Zadanie 2: Transformacja między odwzorowaniami kartograficznymi (2 pkt)\n",
    "\n",
    "Wczytane dane są zapisane z wykorzystaniem różnych odwzorowań kartograficznych. Przed rozpoczęciem analizy należy je ze sobą uzgodnić.\n",
    "\n",
    "Korzystając z własności obiektów GeoDataFrame `geopandas.GeoDataFrame.crs` sprawdź odwzorowanie kartograficzne, w którym zapisane są poszczególne tablice. Jeżeli odwzorowanie jest inne niż epsg:2180 dokonaj jego konwersji z wykorzystaniem funkcji `geopandas.GeoDataFrame.to_crs()`."
   ]
  },
  {
   "cell_type": "code",
   "execution_count": 9,
   "id": "3e2c6e75-c4b8-423c-b308-a8f2da35a9c3",
   "metadata": {
    "deletable": false,
    "nbgrader": {
     "cell_type": "code",
     "checksum": "fec6103fbebbd3c39eac8aff0714faf5",
     "grade": false,
     "grade_id": "cell-adfcf2bd09c20ba2",
     "locked": false,
     "schema_version": 3,
     "solution": true,
     "task": false
    },
    "tags": []
   },
   "outputs": [
    {
     "ename": "NotImplementedError",
     "evalue": "",
     "output_type": "error",
     "traceback": [
      "\u001b[1;31m---------------------------------------------------------------------------\u001b[0m",
      "\u001b[1;31mNotImplementedError\u001b[0m                       Traceback (most recent call last)",
      "Cell \u001b[1;32mIn[9], line 2\u001b[0m\n\u001b[0;32m      1\u001b[0m \u001b[38;5;66;03m# YOUR CODE HERE\u001b[39;00m\n\u001b[1;32m----> 2\u001b[0m \u001b[38;5;28;01mraise\u001b[39;00m \u001b[38;5;167;01mNotImplementedError\u001b[39;00m()\n",
      "\u001b[1;31mNotImplementedError\u001b[0m: "
     ]
    }
   ],
   "source": [
    "# YOUR CODE HERE\n",
    "raise NotImplementedError()"
   ]
  },
  {
   "cell_type": "code",
   "execution_count": null,
   "id": "1f262cd2-03a8-4901-ab29-57b052de73e3",
   "metadata": {
    "deletable": false,
    "editable": false,
    "nbgrader": {
     "cell_type": "code",
     "checksum": "dbfddadd4d86b020abd6d94a6b172128",
     "grade": true,
     "grade_id": "cell-9191c6595dac133c",
     "locked": true,
     "points": 2,
     "schema_version": 3,
     "solution": false,
     "task": false
    },
    "tags": []
   },
   "outputs": [],
   "source": [
    "# Komórka testowa\n",
    "assert wojewodztwa.crs == \"epsg:2180\"\n",
    "assert miasta.crs == \"epsg:2180\"\n",
    "assert rzeki.crs == \"epsg:2180\""
   ]
  },
  {
   "cell_type": "markdown",
   "id": "1a1467f6-2cab-4ba8-9b33-35ef815424ea",
   "metadata": {
    "deletable": false,
    "editable": false,
    "nbgrader": {
     "cell_type": "markdown",
     "checksum": "8275bf8d1c45587c6b59166854bfbc74",
     "grade": false,
     "grade_id": "cell-625a546ba20f1906",
     "locked": true,
     "schema_version": 3,
     "solution": false,
     "task": false
    },
    "tags": []
   },
   "source": [
    "### Zadanie 3: Wizualizacja danych wejściowych (3 pkt)\n",
    "\n",
    "Korzystając z funkcji pakietu matplotlib oraz funkcji `geopandas.GeoDataFrame.plot()` zwizualizuj komplet przygotowanych danych. Ustaw parametry wykresu oraz wizualizowanych obiektów (wielkość figury, kolory, grubość linii, wielkość punktów itp.) tak, aby wygenerowana mapa była przejrzysta i czytelna."
   ]
  },
  {
   "cell_type": "code",
   "execution_count": null,
   "id": "cf7daeab-7a96-4044-af51-cd5d2c33c6ca",
   "metadata": {
    "deletable": false,
    "nbgrader": {
     "cell_type": "code",
     "checksum": "2ccbf5d9b60df188e021e332fdd75acb",
     "grade": true,
     "grade_id": "cell-e4b44f2f3cc8497c",
     "locked": false,
     "points": 3,
     "schema_version": 3,
     "solution": true,
     "task": false
    },
    "tags": []
   },
   "outputs": [],
   "source": [
    "# YOUR CODE HERE\n",
    "raise NotImplementedError()"
   ]
  },
  {
   "cell_type": "markdown",
   "id": "c476ef77-d7a6-4169-a3b5-3cfd7c31d424",
   "metadata": {
    "deletable": false,
    "editable": false,
    "nbgrader": {
     "cell_type": "markdown",
     "checksum": "40f11aa382c3867d46ca61d0d2fe1c6e",
     "grade": false,
     "grade_id": "cell-6c2c6349e2037fc6",
     "locked": true,
     "schema_version": 3,
     "solution": false,
     "task": false
    },
    "tags": []
   },
   "source": [
    "### Zadanie 4: Mierzenie długości, pola powierzchni i odległości (10 pkt)\n",
    "\n",
    "#### a) Długość Wisły\n",
    "Korzystając z własności `geopandas.GeoSeries.length` zmierz długość Wisły w metrach oraz:\n",
    " - zapisz wynik do zmiennej `length`,\n",
    " - wyświetl odpowiedź (pełnym zdaniem) na pytanie o długość Wisły podając odpowiedź w kilometrach."
   ]
  },
  {
   "cell_type": "code",
   "execution_count": null,
   "id": "ed39e343-388f-412f-84a3-db980235c1a5",
   "metadata": {
    "deletable": false,
    "nbgrader": {
     "cell_type": "code",
     "checksum": "1b103303fa2f3ff60ab4d27182b02a3a",
     "grade": false,
     "grade_id": "cell-15ff549b14ca0466",
     "locked": false,
     "schema_version": 3,
     "solution": true,
     "task": false
    },
    "tags": []
   },
   "outputs": [],
   "source": [
    "# YOUR CODE HERE\n",
    "raise NotImplementedError()"
   ]
  },
  {
   "cell_type": "code",
   "execution_count": null,
   "id": "775792c6-ac85-42b2-8a3d-ea41cdad9a1b",
   "metadata": {
    "deletable": false,
    "editable": false,
    "nbgrader": {
     "cell_type": "code",
     "checksum": "27bc8f0ff953667cc7521030278e30be",
     "grade": true,
     "grade_id": "cell-24758c9f3da5ccde",
     "locked": true,
     "points": 2,
     "schema_version": 3,
     "solution": false,
     "task": false
    },
    "tags": []
   },
   "outputs": [],
   "source": [
    "# Komórka testowa\n",
    "assert np.isclose(length, 1019757.7991167122)"
   ]
  },
  {
   "cell_type": "markdown",
   "id": "cde99b75-76ea-4a37-8ee3-2e1b9f68f084",
   "metadata": {
    "deletable": false,
    "editable": false,
    "nbgrader": {
     "cell_type": "markdown",
     "checksum": "80de435676b79b19f0e97b011a5494fe",
     "grade": false,
     "grade_id": "cell-b957c83a1c2b52aa",
     "locked": true,
     "schema_version": 3,
     "solution": false,
     "task": false
    },
    "tags": []
   },
   "source": [
    "#### b) Pola powierzchni województw\n",
    "Korzystając z własności `geopandas.GeoSeries.area` zmierz powierzchnię województw w metrach kwadratowych oraz:\n",
    " - zapisz wyniki do tablicy `wojewodztwa` w kolumnie o nazwie \"Pole\", \n",
    " - oblicz pole powierzchni Polski w metrach kwadartowych i zapisz wynik do zmiennej `area`,\n",
    " - wyświetl odpowiedź (pełnym zdaniem) na pytanie o powierzchnię Polski podając odpowiedź w kilometrach kwadratowych,\n",
    " - przygotuj wizualiację, na której kolor przypisany województwom jest powiązany z ich powierzchnią.\n",
    "\n",
    "Wizualizacja powinna zawierać:\n",
    "- województwa, wypełnione kolorem powiązanym z ich powierzchnią,\n",
    "\n",
    "Ustaw parametry wykresu oraz wizualizowanych obiektów (wielkość figury, kolory, grubość linii, wielkość punktów itp.) tak aby wygenerowana mapa była przejrzysta i czytelna."
   ]
  },
  {
   "cell_type": "code",
   "execution_count": null,
   "id": "a40f4566-c4ba-4057-8f52-2096cb55754b",
   "metadata": {
    "deletable": false,
    "nbgrader": {
     "cell_type": "code",
     "checksum": "96efc8f129676b14eb9161c4873cf184",
     "grade": false,
     "grade_id": "cell-eb301c3344f17b1e",
     "locked": false,
     "schema_version": 3,
     "solution": true,
     "task": false
    },
    "tags": []
   },
   "outputs": [],
   "source": [
    "# Obliczenia\n",
    "# YOUR CODE HERE\n",
    "raise NotImplementedError()"
   ]
  },
  {
   "cell_type": "code",
   "execution_count": null,
   "id": "a21df4f9-d550-47ed-998f-4bb71dfba2fb",
   "metadata": {
    "deletable": false,
    "editable": false,
    "nbgrader": {
     "cell_type": "code",
     "checksum": "78a55e1546737b38ec78e334830a66ce",
     "grade": true,
     "grade_id": "cell-54e8fb04359f397e",
     "locked": true,
     "points": 2,
     "schema_version": 3,
     "solution": false,
     "task": false
    },
    "tags": []
   },
   "outputs": [],
   "source": [
    "# Komórka testowa\n",
    "assert np.all(np.isclose(wojewodztwa[\"Pole\"].values, np.array([1.23170381e+10, 9.39998646e+09, 1.16972569e+10, 1.83069651e+10,\n",
    "                                                               2.01931654e+10, 2.29033672e+10, 1.99361725e+10, 2.97972921e+10,\n",
    "                                                               1.78437052e+10, 1.51660383e+10, 2.41505782e+10, 1.81944352e+10,\n",
    "                                                               3.55292977e+10, 1.79475269e+10, 2.51340028e+10, 1.39898166e+10])))\n",
    "assert np.isclose(area, 312506644577.3843)"
   ]
  },
  {
   "cell_type": "code",
   "execution_count": null,
   "id": "fa376cdd-e2ea-405c-99af-c932a90128d5",
   "metadata": {
    "deletable": false,
    "nbgrader": {
     "cell_type": "code",
     "checksum": "6159b6512bd090d822aed6be586ac841",
     "grade": true,
     "grade_id": "cell-ab1428f12655827b",
     "locked": false,
     "points": 2,
     "schema_version": 3,
     "solution": true,
     "task": false
    },
    "tags": []
   },
   "outputs": [],
   "source": [
    "# Wizualizacja\n",
    "# YOUR CODE HERE\n",
    "raise NotImplementedError()"
   ]
  },
  {
   "cell_type": "markdown",
   "id": "c5db6d60-926a-4123-9007-2f4bff69bbc7",
   "metadata": {
    "deletable": false,
    "editable": false,
    "nbgrader": {
     "cell_type": "markdown",
     "checksum": "ffe461f25d913f780034b5120ea3753c",
     "grade": false,
     "grade_id": "cell-9cf1e2e73c4d573f",
     "locked": true,
     "schema_version": 3,
     "solution": false,
     "task": false
    },
    "tags": []
   },
   "source": [
    "#### c) Odległość miast od Krakowa\n",
    "Korzystając z funkcji `geopandas.GeoSeries.distance()` zmierz odległość poszczególnych miast od Krakowa w metrach oraz:\n",
    " - zapisz wyniki do tablicy `miasta` w kolumnie o nazwie \"Odległość od Krakowa\", \n",
    " - oblicz w jakiej odległości od Krakowa w kilometrach leży Poznań i zapisz wynik do zmiennej `distance`,\n",
    " - odpowiedz na pytanie (pełnym zdaniem) w jakiej odległości wyrażonej w kilometrach od Krakowa leży Poznań,\n",
    " - przygotuj wizualiację, na której kolor przypisany miastom jest powiązany z ich odległością od Krakowa. \n",
    "\n",
    "Wizualizacja powinna zawierać:\n",
    "- kontury województw, bez wypełnienia,\n",
    "- lokalicaje miast.\n",
    "\n",
    "Ustaw parametry wykresu oraz wizualizowanych obiektów (wielkość figury, kolory, grubość linii, wielkość punktów itp.) tak aby wygenerowana mapa była przejrzysta i czytelna."
   ]
  },
  {
   "cell_type": "code",
   "execution_count": null,
   "id": "e02a6ba4-aaa5-4c65-a93b-618fdc9c752d",
   "metadata": {
    "deletable": false,
    "nbgrader": {
     "cell_type": "code",
     "checksum": "90712b5aef7ca93ee56c6d6b7abdeaca",
     "grade": false,
     "grade_id": "cell-ce6d9808f4193a3c",
     "locked": false,
     "schema_version": 3,
     "solution": true,
     "task": false
    },
    "tags": []
   },
   "outputs": [],
   "source": [
    "# Obliczenia\n",
    "# YOUR CODE HERE\n",
    "raise NotImplementedError()"
   ]
  },
  {
   "cell_type": "code",
   "execution_count": null,
   "id": "af80d4a8-8f0e-4156-a94e-310c35e8a0fe",
   "metadata": {
    "deletable": false,
    "editable": false,
    "nbgrader": {
     "cell_type": "code",
     "checksum": "fa66d07c56f6634135d145b0faae1a0e",
     "grade": true,
     "grade_id": "cell-ea3373eed57cd3e3",
     "locked": true,
     "points": 2,
     "schema_version": 3,
     "solution": false,
     "task": false
    },
    "tags": []
   },
   "outputs": [],
   "source": [
    "# Komórka testowa\n",
    "assert np.isclose(miasta[\"Odległość od Krakowa\"].min(), 0.0)\n",
    "assert np.isclose(miasta[\"Odległość od Krakowa\"].max(), 579020.726082644)\n",
    "assert np.isclose(miasta[\"Odległość od Krakowa\"].mean(), 271127.08178774477)\n",
    "assert np.isclose(distance, 334.60495145299524)"
   ]
  },
  {
   "cell_type": "code",
   "execution_count": null,
   "id": "4587b3b8-56c3-48fe-a896-4cc338eb1819",
   "metadata": {
    "deletable": false,
    "nbgrader": {
     "cell_type": "code",
     "checksum": "292354197d66c99e150bf0deab17c39f",
     "grade": true,
     "grade_id": "cell-8d841cc379d33cb6",
     "locked": false,
     "points": 2,
     "schema_version": 3,
     "solution": true,
     "task": false
    },
    "tags": []
   },
   "outputs": [],
   "source": [
    "# Wizualizacja\n",
    "# YOUR CODE HERE\n",
    "raise NotImplementedError()"
   ]
  },
  {
   "cell_type": "markdown",
   "id": "920e327b-98f2-4079-a923-90c554c1ea26",
   "metadata": {
    "deletable": false,
    "editable": false,
    "nbgrader": {
     "cell_type": "markdown",
     "checksum": "300a0eb5fb96659320257a8d5c9a1695",
     "grade": false,
     "grade_id": "cell-9dc390183478c24a",
     "locked": true,
     "schema_version": 3,
     "solution": false,
     "task": false
    },
    "tags": []
   },
   "source": [
    "### Zadanie 5: Wykorzystanie prostych operacji geometrycznych (12 pkt)\n",
    "\n",
    "#### a) Miasta blisko Wisły\n",
    "\n",
    "Korzystając z funkcji `geopandas.GeoSeries.buffer()` oraz `geopandas.GeoSeries.within()` sprawdź, które miast leżą bliżej niż 20 km od Wisły oraz:\n",
    " - zapisz wyniki do tablicy `miasta` w kolumnie o nazwie \"Blisko Wisły\" (True/False),\n",
    " - oblicz ile miast leży bliżej niż 20 km od Wisły i zapisz wynik do zmiennej `cities`,\n",
    " - odpowiedz na pytanie (pełnym zdaniem) ile miast leży bliżej niż 20 km od Wisły,\n",
    " - przygotuj wizualiację, na której oznaczony zostanie obszar znajdujący się bliżej niż 20 km od Wisły, a znajdujące się w tym obszarze miasta będą wyróżnione kolorem względem pozostałych miast.\n",
    "\n",
    "Wizualizacja powinna zawierać:\n",
    "- województwa, wypełnione jednolitym kolorem,\n",
    "- miasta, w jednym z dwóch wybranych kolorów w zależności od spełnienia analizowanego kryterium.\n",
    "- rzeki wypełnione jednolitym kolorem,\n",
    "- oznaczenie terenu leżącego nie dalej niż 20 km od Wisły.\n",
    "\n",
    "Ustaw parametry wykresu oraz wizualizowanych obiektów (wielkość figury, kolory, grubość linii, wielkość punktów itp.) tak aby wygenerowana mapa była przejrzysta i czytelna."
   ]
  },
  {
   "cell_type": "code",
   "execution_count": null,
   "id": "bf1abbae-de79-49a0-bdcc-7db3e3c5f649",
   "metadata": {
    "deletable": false,
    "nbgrader": {
     "cell_type": "code",
     "checksum": "ab30a1122324b86dec36e1314703ab2e",
     "grade": false,
     "grade_id": "cell-02e093a857861332",
     "locked": false,
     "schema_version": 3,
     "solution": true,
     "task": false
    },
    "tags": []
   },
   "outputs": [],
   "source": [
    "# Obliczenia\n",
    "# YOUR CODE HERE\n",
    "raise NotImplementedError()"
   ]
  },
  {
   "cell_type": "code",
   "execution_count": null,
   "id": "7581832b-edef-4dd3-b0ed-101368991b76",
   "metadata": {
    "deletable": false,
    "editable": false,
    "nbgrader": {
     "cell_type": "code",
     "checksum": "323acf144efb81bb39a77b8ef4ebb394",
     "grade": true,
     "grade_id": "cell-b1ad6f1be0de19b9",
     "locked": true,
     "points": 3,
     "schema_version": 3,
     "solution": false,
     "task": false
    },
    "tags": []
   },
   "outputs": [],
   "source": [
    "# Komórka testowa\n",
    "assert cities == 148"
   ]
  },
  {
   "cell_type": "code",
   "execution_count": null,
   "id": "cedafe34-cfc8-4979-910f-e3473fbba8e0",
   "metadata": {
    "deletable": false,
    "nbgrader": {
     "cell_type": "code",
     "checksum": "c54b9157004cfc32e711b43f2d5c6fd0",
     "grade": true,
     "grade_id": "cell-1d944ce0b7080e86",
     "locked": false,
     "points": 3,
     "schema_version": 3,
     "solution": true,
     "task": false
    },
    "tags": []
   },
   "outputs": [],
   "source": [
    "# Wizualizacja\n",
    "# YOUR CODE HERE\n",
    "raise NotImplementedError()"
   ]
  },
  {
   "cell_type": "markdown",
   "id": "47ff188d-9f0e-4006-8ffe-651892682ff0",
   "metadata": {
    "deletable": false,
    "editable": false,
    "nbgrader": {
     "cell_type": "markdown",
     "checksum": "cdb9c91544835b9bed4c85004a34081c",
     "grade": false,
     "grade_id": "cell-0c43a9294f4b9bbb",
     "locked": true,
     "schema_version": 3,
     "solution": false,
     "task": false
    },
    "tags": []
   },
   "source": [
    "#### b) Województwa, przez które przepływa Odra\n",
    "Korzystając z funkcji `geopandas.GeoSeries.intersects()` sprawdź, przez które województwa przepływa Odra oraz:\n",
    " - zapisz wyniki do tablicy `wojewodztwa` w kolumnie o nazwie \"Odra w obrębie\" (True/False) oraz do zmiennej `voivodeships` (lista województw, przez które przepływa Odra),\n",
    " - odpowiedz na pytanie (pełym zdaniem) przez które województa przepływa Odra,\n",
    " - przygotuj wizualiację, na której województwa przez które przepływa Odra będą wyróżnione kolorem względem pozostałych województw.\n",
    "\n",
    "Wizualizacja powinna zawierać:\n",
    "- województwa, wypełnione jednym z dwóch wybranych kolorów w zależności od spełnienia analizowanego kryterium,\n",
    "- miasta, wypełnione jednolitym kolorem,\n",
    "- rzeki wypełnione jednolitym kolorem.\n",
    "\n",
    "Ustaw parametry wykresu oraz wizualizowanych obiektów (wielkość figury, kolory, grubość linii, wielkość punktów itp.) tak aby wygenerowana mapa była przejrzysta i czytelna."
   ]
  },
  {
   "cell_type": "code",
   "execution_count": null,
   "id": "0714c168-e7c9-49df-936a-c42b9ecd4a46",
   "metadata": {
    "deletable": false,
    "nbgrader": {
     "cell_type": "code",
     "checksum": "a0d44d63f1c402327149c5b879e79929",
     "grade": false,
     "grade_id": "cell-07caea011ad0dfd6",
     "locked": false,
     "schema_version": 3,
     "solution": true,
     "task": false
    },
    "tags": []
   },
   "outputs": [],
   "source": [
    "# Obliczenia\n",
    "# YOUR CODE HERE\n",
    "raise NotImplementedError()"
   ]
  },
  {
   "cell_type": "code",
   "execution_count": null,
   "id": "2d76e3b5-807f-4c24-877d-21404ca1bf92",
   "metadata": {
    "deletable": false,
    "editable": false,
    "nbgrader": {
     "cell_type": "code",
     "checksum": "951e19e0903eb7092984c7f49fd50907",
     "grade": true,
     "grade_id": "cell-0e6fb598a6c4608f",
     "locked": true,
     "points": 3,
     "schema_version": 3,
     "solution": false,
     "task": false
    },
    "tags": []
   },
   "outputs": [],
   "source": [
    "# Komórka testowa\n",
    "assert sorted(voivodeships) == ['dolnośląskie', 'lubuskie', 'opolskie', 'zachodniopomorskie', 'śląskie']"
   ]
  },
  {
   "cell_type": "code",
   "execution_count": null,
   "id": "268455d9-f536-4135-9a18-4657366248d8",
   "metadata": {
    "deletable": false,
    "nbgrader": {
     "cell_type": "code",
     "checksum": "ba67bffbcc42dbc9f81859717b2a9692",
     "grade": true,
     "grade_id": "cell-bc1504ffa6bf53aa",
     "locked": false,
     "points": 3,
     "schema_version": 3,
     "solution": true,
     "task": false
    },
    "tags": []
   },
   "outputs": [],
   "source": [
    "# Wizualizacja\n",
    "# YOUR CODE HERE\n",
    "raise NotImplementedError()"
   ]
  }
 ],
 "metadata": {
  "kernelspec": {
   "display_name": "Python 3 (ipykernel)",
   "language": "python",
   "name": "python3"
  },
  "language_info": {
   "codemirror_mode": {
    "name": "ipython",
    "version": 3
   },
   "file_extension": ".py",
   "mimetype": "text/x-python",
   "name": "python",
   "nbconvert_exporter": "python",
   "pygments_lexer": "ipython3",
   "version": "3.9.10"
  }
 },
 "nbformat": 4,
 "nbformat_minor": 5
}
