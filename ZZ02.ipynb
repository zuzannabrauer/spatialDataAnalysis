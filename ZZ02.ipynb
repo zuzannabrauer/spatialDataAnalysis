{
 "cells": [
  {
   "cell_type": "markdown",
   "id": "6cc51012",
   "metadata": {
    "deletable": false,
    "editable": false,
    "nbgrader": {
     "cell_type": "markdown",
     "checksum": "4bc4ef312ccdd965a2df57a87c78b2a4",
     "grade": false,
     "grade_id": "cell-fcd2666579131b77",
     "locked": true,
     "schema_version": 3,
     "solution": false,
     "task": false
    },
    "tags": []
   },
   "source": [
    "# Analiza danych przestrzennych - ćwiczenia laboratoryjne 2023/2024\n",
    "\n",
    "Ten notatnik zalicza się do grupy zestawów zadań, na podstawie których odbywa się zaliczenie ćwiczeń i podlega zwrotowi do oceny w ustalonym na zajęciach terminie.\n",
    "\n",
    "Uwagi i wytyczne ogólne dotyczące uzupełniania i oceny notatnika:\n",
    "- Podczas wykonywania zadań należy korzystać wyłącznie z pakietów zaimportowanych na początku notatnika oraz z pakietów wchodzących w skład standardowej biblioteki Pythona, które można zaimportować samodzielnie we wskazanej komórce notatnika.\n",
    "- Swoje rozwiązania należy wprowadzać wyłącznie w miejce następujących fragmentów kodu:<br/> `# YOUR CODE HERE`<br/> `raise NotImplementedError()`<br/> \n",
    "a odpowiedzi tekstowe w komórkach oznaczonych hasłem:<br/> \n",
    "`YOUR ANSWER HERE`<br/> \n",
    "Nie należy w żaden sposób modyfikować pozostałych fragmentów kodu oraz innych elementów notatnika, w szczególności dodawać lub usuwać komórek oraz zmieniać nazwy pliku.\n",
    "- Jeżeli zestaw zadań wymaga skorzystania z fragmentów kodu opracowanego w ramach wcześniejszych zestawów zadań należy je umieścić we wskazanej komórce notatnika.\n",
    "- Otrzymywane wyniki i odpowiedzi mają być rezultatem wykonania napisanego kodu, odpowiedzi uzupełniane manualnie nie podlegają ocenie.\n",
    "- Zawarte w notatniku automatyczne testy mają charakter poglądowy. Dotyczą one wybranych aspektów zadań i mają na celu wyłapać podstawowe błędy. Przejście przez kod wszystkich testów nie oznacza, że zadanie jest wykonane w całości poprawnie i zostanie ocenione na maksymalną liczbę punktów.\n",
    "- Zadania należy wykonać w taki sposób, aby podczas wykonywania kodu nie zostały wyświetlone żadne ostrzeżenia.\n",
    "- Zadania, które powodują wyświetlenie komunikatu o błędzie przerywającym wykonywanie kodu nie podlegają ocenie.\n",
    "\n",
    "Uwagi i wytyczne ogólne dotyczące wizualizacji wyników:\n",
    "- Wszystkie wykresy powinny być wykonane w jednolitym, przejrzystym i czytelnym stylu, posiadać odpowiednio dobrane proporcje i zakresy wartości osi.\n",
    "- Figury powinny mieć ustawione białe tło, tak, aby niezależnie od ustawień notatnika wszystkie elementy wykresów były dobrze widoczne (domyślnie tło jest przeźroczyste co może powodować problemy w notatnikach z ustawionym ciemnym tłem). Rozmiar poziomy figur nie powinien przekraczać 20 cali.\n",
    "- Wykresy oraz ich osie powinny mieć nadane tytuły. Jeżeli w obrębie figury znajduje się więcej niż jeden wykres to figura również powinna mieć nadany tytuł.\n",
    "- Zakresy osi wykresów przedstawiających rozkłady punktów w przestrzeni powinny być docięte do granic obszaru, na którym został wygenerowany proces punktowy.\n",
    "- Proporcje osi wykresów przedstawiających rozkłady punktów w przestrzeni powinny być dobrane tak, aby wykresy odzwierciedlały rzeczywisty rozkład punktów w przestrzeni. Nie należy osiągać tego efektu manipulując rozmiarem całej figury.\n",
    "\n",
    "Przed odesłaniem zestawu zadań do oceny proszę uzupełnić komórkę z danymi autorów rozwiązania (nazwa zespołu oraz imiona, nazwiska i numery indeksów członków zespołu) oraz upewnić się, że notatnik działa zgodnie z oczekiwaniami. W tym celu należy skorzystać z opcji **Restart Kernel and Run All Cells...** dostępnej na górnej belce notatnika pod symbolem $\\blacktriangleright\\blacktriangleright$."
   ]
  },
  {
   "cell_type": "raw",
   "id": "401937fa",
   "metadata": {},
   "source": [
    "Nazwa zespołu: IAD14\n",
    "Członkowie: Natalia Kołodziejczyk\n",
    "Izabela Karczewska\n",
    "Sandra Głowacka\n",
    "Zuzanna Brauer"
   ]
  },
  {
   "cell_type": "markdown",
   "id": "3a0054fb",
   "metadata": {
    "deletable": false,
    "editable": false,
    "nbgrader": {
     "cell_type": "markdown",
     "checksum": "eddc8826810e4a6f7bf68319da334bd9",
     "grade": false,
     "grade_id": "cell-109006d425e5cf83",
     "locked": true,
     "schema_version": 3,
     "solution": false,
     "task": false
    },
    "tags": []
   },
   "source": [
    "---"
   ]
  },
  {
   "cell_type": "markdown",
   "id": "7e5219bf-6d59-43bd-975d-dab8cb71570a",
   "metadata": {
    "deletable": false,
    "editable": false,
    "nbgrader": {
     "cell_type": "markdown",
     "checksum": "d7d09a3f6d43a88e3f684a6767164ffe",
     "grade": false,
     "grade_id": "cell-1f33a09e5146ecbe",
     "locked": true,
     "schema_version": 3,
     "solution": false,
     "task": false
    },
    "tags": []
   },
   "source": [
    "## Zestaw zadań 2: Badanie intensywności procesów punktowych (część 1)"
   ]
  },
  {
   "cell_type": "code",
   "execution_count": 1,
   "id": "4b54cd26-a892-43b9-bbea-74f124bfeb47",
   "metadata": {
    "deletable": false,
    "editable": false,
    "nbgrader": {
     "cell_type": "code",
     "checksum": "31642740d59cb98672cfd1ca55108013",
     "grade": false,
     "grade_id": "cell-ecd0d56207650fc3",
     "locked": true,
     "schema_version": 3,
     "solution": false,
     "task": false
    },
    "tags": []
   },
   "outputs": [],
   "source": [
    "import numpy as np\n",
    "import pandas as pd\n",
    "import scipy as sp\n",
    "import matplotlib as mpl\n",
    "import matplotlib.pyplot as plt\n",
    "import seaborn as sns"
   ]
  },
  {
   "cell_type": "code",
   "execution_count": null,
   "id": "db27e326-64bc-4471-be88-bf581682798a",
   "metadata": {
    "tags": []
   },
   "outputs": [],
   "source": [
    "# Miejsce do importu pakietów wchodzących w skład standardowej biblioteki Pythona oraz ustawienie opcji wykorzystywanych pakietów"
   ]
  },
  {
   "cell_type": "markdown",
   "id": "2669f580-b8c5-47b1-9c6e-61a912b98a6f",
   "metadata": {
    "deletable": false,
    "editable": false,
    "nbgrader": {
     "cell_type": "markdown",
     "checksum": "89322bc7a9812eda03e1df14892c4690",
     "grade": false,
     "grade_id": "cell-f2afbf273f0dc494",
     "locked": true,
     "schema_version": 3,
     "solution": false,
     "task": false
    },
    "tags": []
   },
   "source": [
    "### Wczytanie danych\n",
    "\n",
    "Załączone do notatniki pliki zawierają następujące procesy punktowe:\n",
    " - `points_HP` - jednorodny rozkład Poissona,\n",
    " - `points_UP` - niejednorodny rozkład Poissona,\n",
    " - `points_M` - rozkład Materna,\n",
    " - `points_T` - rozkład Thomasa,\n",
    " \n",
    "wygenerowane dla zakresu współrzędnych X $[-10, 10]$ i Y $[-5, 5]$.\n",
    "\n",
    "W celu wczytania danych do notatnika umieść wszystkie pliki w tym samym folderze, w którym znajduje się notatnik."
   ]
  },
  {
   "cell_type": "code",
   "execution_count": 7,
   "id": "bf6e5842-1aff-44f6-8f6c-4e3fa328f114",
   "metadata": {
    "deletable": false,
    "editable": false,
    "nbgrader": {
     "cell_type": "code",
     "checksum": "f500c4d5ff0e0397d5963ae261f7f096",
     "grade": false,
     "grade_id": "cell-ade1720260927626",
     "locked": true,
     "schema_version": 3,
     "solution": false,
     "task": false
    },
    "tags": []
   },
   "outputs": [],
   "source": [
    "# Wczytanie danych\n",
    "points_HP = pd.read_pickle('points_HP.pkl')\n",
    "points_UP = pd.read_pickle('points_UP.pkl')\n",
    "points_M = pd.read_pickle('points_M.pkl')\n",
    "points_T = pd.read_pickle('points_T.pkl')"
   ]
  },
  {
   "cell_type": "markdown",
   "id": "9b51121e-8948-415c-92c3-ae1989a80fae",
   "metadata": {
    "deletable": false,
    "editable": false,
    "nbgrader": {
     "cell_type": "markdown",
     "checksum": "35eb74ef96574102b8586c496f29fd46",
     "grade": false,
     "grade_id": "cell-cf8e2b1190d2c9a6",
     "locked": true,
     "schema_version": 3,
     "solution": false,
     "task": false
    },
    "tags": []
   },
   "source": [
    "### Zadanie 1: Badanie intensywności procesu punktowego metodą szacowania lokalnego (15 pkt)\n",
    "\n",
    "Przygotuj funkcję `point_count_on_subregions()`, która będzie zliczać punkty w obrębie prostokątnych podobszarów oraz funkcję `intensity_on_subregions()`, która będzie obliczać intensywność procesu punktowego w obrębie prostokątnych podobszarów.\n",
    "\n",
    "Algorytm postępowania:\n",
    "1. Dzielimy analizowany obszar na identyczne prostokątne podobszary ułożone w równomiernej siatce (w wierszach i kolumnach).\n",
    "2. Zliczamy punkty znajdujące się w poszczególych podobszarach (punkty znajdujące się na granicach podobszarów powinny być zliczone tylko do jednego z nich).\n",
    "3. Obliczamy intensywność procesu w obrębie poszczególnych podobszarów dzieląc znajdującą się w nich liczbę punktów przez pole powierzchni podobszaru.\n",
    "\n",
    "Uwagi do wykonania zadania:\n",
    "- W części zadania dotyczącej funkcji obliczającej intensywność procesu nie należy dublować kodu napisanego w funkcji zliczającej punkty w obrębie prostokątnych podobszarów, a jedynie wywołać przygotowaną wcześniej funkcję `point_count_on_subregions()`.\n",
    "- W metodzie szacowania lokalnego szacowanie intensywności odbywa się na kwadratowych podobszarach. W celu ułatwienia pisania funkcji warunek ten w zadaniu został rozluźniony do obszarów prostokątnych. We wszystkich zadaniach rozmiar obszaru i parametry siatki podobszarów są natomiast dobrane w taki sposób, że wygenerowane podobszary będą kwadratami."
   ]
  },
  {
   "cell_type": "markdown",
   "id": "751af080-63a3-41a3-bdfb-ba2d8c981aa3",
   "metadata": {
    "deletable": false,
    "editable": false,
    "nbgrader": {
     "cell_type": "markdown",
     "checksum": "2af9f2874b81554258b2ac57538e46c9",
     "grade": false,
     "grade_id": "cell-3bd38731291da2b7",
     "locked": true,
     "schema_version": 3,
     "solution": false,
     "task": false
    },
    "tags": []
   },
   "source": [
    "#### a) Przygotowanie funkcji"
   ]
  },
  {
   "cell_type": "code",
   "execution_count": 12,
   "id": "3ecfacb6-4cfc-4df5-9e95-eb657ab7bd97",
   "metadata": {
    "deletable": false,
    "nbgrader": {
     "cell_type": "code",
     "checksum": "25417dec43ca60bdb5e3c59e2b969dbb",
     "grade": false,
     "grade_id": "cell-6991ddf3ffdd6af4",
     "locked": false,
     "schema_version": 3,
     "solution": true,
     "task": false
    },
    "tags": []
   },
   "outputs": [
    {
     "name": "stdout",
     "output_type": "stream",
     "text": [
      "-5 -4.0 \n",
      " -2.5 -1.5\n",
      "-5 -4.0 \n",
      " -1.5 -0.5\n",
      "-5 -4.0 \n",
      " -0.5 0.5\n",
      "-5 -4.0 \n",
      " 0.5 1.5\n",
      "-5 -4.0 \n",
      " 1.5 2.5\n",
      "-4.0 -3.0 \n",
      " -2.5 -1.5\n",
      "-4.0 -3.0 \n",
      " -1.5 -0.5\n",
      "-4.0 -3.0 \n",
      " -0.5 0.5\n",
      "-4.0 -3.0 \n",
      " 0.5 1.5\n",
      "-4.0 -3.0 \n",
      " 1.5 2.5\n",
      "-3.0 -2.0 \n",
      " -2.5 -1.5\n",
      "-3.0 -2.0 \n",
      " -1.5 -0.5\n",
      "-3.0 -2.0 \n",
      " -0.5 0.5\n",
      "-3.0 -2.0 \n",
      " 0.5 1.5\n",
      "-3.0 -2.0 \n",
      " 1.5 2.5\n",
      "-2.0 -1.0 \n",
      " -2.5 -1.5\n",
      "-2.0 -1.0 \n",
      " -1.5 -0.5\n",
      "-2.0 -1.0 \n",
      " -0.5 0.5\n",
      "-2.0 -1.0 \n",
      " 0.5 1.5\n",
      "-2.0 -1.0 \n",
      " 1.5 2.5\n",
      "-1.0 0.0 \n",
      " -2.5 -1.5\n",
      "-1.0 0.0 \n",
      " -1.5 -0.5\n",
      "-1.0 0.0 \n",
      " -0.5 0.5\n",
      "-1.0 0.0 \n",
      " 0.5 1.5\n",
      "-1.0 0.0 \n",
      " 1.5 2.5\n",
      "0.0 1.0 \n",
      " -2.5 -1.5\n",
      "0.0 1.0 \n",
      " -1.5 -0.5\n",
      "0.0 1.0 \n",
      " -0.5 0.5\n",
      "0.0 1.0 \n",
      " 0.5 1.5\n",
      "0.0 1.0 \n",
      " 1.5 2.5\n",
      "1.0 2.0 \n",
      " -2.5 -1.5\n",
      "1.0 2.0 \n",
      " -1.5 -0.5\n",
      "1.0 2.0 \n",
      " -0.5 0.5\n",
      "1.0 2.0 \n",
      " 0.5 1.5\n",
      "1.0 2.0 \n",
      " 1.5 2.5\n",
      "2.0 3.0 \n",
      " -2.5 -1.5\n",
      "2.0 3.0 \n",
      " -1.5 -0.5\n",
      "2.0 3.0 \n",
      " -0.5 0.5\n",
      "2.0 3.0 \n",
      " 0.5 1.5\n",
      "2.0 3.0 \n",
      " 1.5 2.5\n",
      "3.0 4.0 \n",
      " -2.5 -1.5\n",
      "3.0 4.0 \n",
      " -1.5 -0.5\n",
      "3.0 4.0 \n",
      " -0.5 0.5\n",
      "3.0 4.0 \n",
      " 0.5 1.5\n",
      "3.0 4.0 \n",
      " 1.5 2.5\n",
      "4.0 5.0 \n",
      " -2.5 -1.5\n",
      "4.0 5.0 \n",
      " -1.5 -0.5\n",
      "4.0 5.0 \n",
      " -0.5 0.5\n",
      "4.0 5.0 \n",
      " 0.5 1.5\n",
      "4.0 5.0 \n",
      " 1.5 2.5\n"
     ]
    }
   ],
   "source": [
    "def point_count_on_subregions(points, bins, x_lim, y_lim):\n",
    "    bin_data = []\n",
    "    x_step = (x_lim[1] - x_lim[0])/bins[0]\n",
    "    y_step = (y_lim[1] - y_lim[0])/bins[1]\n",
    "    x = x_lim[0]\n",
    "    while (x <= x_lim[1] - x_step):\n",
    "        y = y_lim[0]\n",
    "        x_start = x\n",
    "        x_end = x + x_step\n",
    "        x += x_step\n",
    "        while (y <= y_lim[1] - y_step):\n",
    "            y_start = y\n",
    "            y_end = y + y_step\n",
    "            y += y_step\n",
    "            print(x_start, x_end, \"\\n\", y_start, y_end)\n",
    "\n",
    "point_count_on_subregions(points_HP, bins=[10, 5], x_lim=[-5, 5], y_lim=[-2.5, 2.5])\n",
    "\n",
    "def intensity_on_subregions(points, bins, x_lim, y_lim):\n",
    "\n",
    "    \"\"\"\n",
    "    Parameters\n",
    "    -------\n",
    "    points: DataFrame\n",
    "        Tablica zawierająca dwie kolumny ze współrzędnymi punktów opisane jako \"X\" i \"Y\".\n",
    "    bins: list\n",
    "        Lista określająca liczbę podobszarów w poziomie i pionie.\n",
    "        Przykład: [10, 10]\n",
    "    x_lim: list\n",
    "        Lista określająca zakres wartości współrzędnej X.\n",
    "        Przykład: [0, 10]\n",
    "    y_lim: list\n",
    "        Lista określająca zakres wartości współrzędnej Y.\n",
    "        Przykład: [0, 10]   \n",
    "\n",
    "    Returns\n",
    "    -------\n",
    "    intensity_data: list\n",
    "        Lista zawierająca trzy macierze:\n",
    "        - 2D z wartością intensywności przypisą do każdego z podobszarów.\n",
    "        - 1D ze współrzędnymi krawędzi podobszarów na osi X,\n",
    "        - 1D ze współrzędnymi krawędzi podobszarów na osi Y,\n",
    "        Na przykład: [array([[3, 7], [9, 4]]), array([0, 1, 2]), array([0, 1, 2])]\n",
    "    \"\"\"\n",
    "    # YOUR CODE HERE\n",
    "    raise NotImplementedError()"
   ]
  },
  {
   "cell_type": "code",
   "execution_count": null,
   "id": "0d422121-eda5-4892-9911-199bef3dcba6",
   "metadata": {
    "deletable": false,
    "editable": false,
    "nbgrader": {
     "cell_type": "code",
     "checksum": "e07059cc266c161d6de15d64683d6e56",
     "grade": true,
     "grade_id": "cell-c751f7154b39b00e",
     "locked": true,
     "points": 8,
     "schema_version": 3,
     "solution": false,
     "task": false
    },
    "tags": []
   },
   "outputs": [],
   "source": [
    "# Komórka testowa\n",
    "test_intensity_1 = intensity_on_subregions(points_HP, bins=[10, 5], x_lim=[-5, 5], y_lim=[-2.5, 2.5])\n",
    "assert type(test_intensity_1) == list\n",
    "assert len(test_intensity_1) == 3\n",
    "assert np.shape(test_intensity_1[0]) == (5, 10)\n",
    "assert np.all(np.isclose(np.sum(test_intensity_1[0], axis=0), np.array([47., 38., 56., 45., 54., 51., 46., 57., 50., 66.])))\n",
    "assert np.all(np.isclose(np.sum(test_intensity_1[0], axis=1), np.array([98.,  96.,  96., 111., 109.])))\n",
    "assert np.shape(test_intensity_1[1]) == (11,)\n",
    "assert np.all(np.isclose(test_intensity_1[1], np.array([-5., -4., -3., -2., -1.,  0.,  1.,  2.,  3.,  4.,  5.])))\n",
    "assert np.shape(test_intensity_1[2]) == (6,)\n",
    "assert np.all(np.isclose(test_intensity_1[2], np.array([-2.5, -1.5, -0.5,  0.5,  1.5,  2.5])))"
   ]
  },
  {
   "cell_type": "markdown",
   "id": "265de2bc-fc75-41f0-9e26-01bb660894f5",
   "metadata": {
    "deletable": false,
    "editable": false,
    "nbgrader": {
     "cell_type": "markdown",
     "checksum": "3b408fec5a5fa4f0581516cb2507f17a",
     "grade": false,
     "grade_id": "cell-1fb3dd20a15d6124",
     "locked": true,
     "schema_version": 3,
     "solution": false,
     "task": false
    },
    "tags": []
   },
   "source": [
    "#### b) Wygenerowanie danych i wizualizacja\n",
    "\n",
    "Wykorzystaj funkcje przygotowane w poprzednim podpunkcie zadania do zbadania intensywności wszystkich wczytanych do notatnika rozkładów punktowych. Ustaw podział obszaru na 40 podobszarów wzdłuż osi $X$ i 20 podobszarów wzdłuż osi $Y$. Analizę przeprowadź dla całego obszaru, na którym zostały wygenerowane punkty.\n",
    "\n",
    "Przedstaw wyniki analizy graficznie w postaci histogramów dwuwymiarowych z nałożonymi na nie rozkładami punktów. Zestaw wyniki na pojedynczej figurze (siatka wykresów 2x2).\n",
    "Dla wszystkich histogramów ustaw tę samą skalę kolorów z identycznym zakresem wartości ustalonym na podstawie minimalnej i maksymalnej wartości intensywności wyznaczonej dla kompletu analizowanych rozkładów."
   ]
  },
  {
   "cell_type": "code",
   "execution_count": null,
   "id": "aab1e3ae-c89d-48d8-bb69-c6701d49be3e",
   "metadata": {
    "deletable": false,
    "nbgrader": {
     "cell_type": "code",
     "checksum": "34ee347bce4ce2ddc3052844bd6c2437",
     "grade": true,
     "grade_id": "cell-046b66442d9f5ae1",
     "locked": false,
     "points": 7,
     "schema_version": 3,
     "solution": true,
     "task": false
    },
    "tags": []
   },
   "outputs": [],
   "source": [
    "# YOUR CODE HERE\n",
    "raise NotImplementedError()"
   ]
  },
  {
   "cell_type": "markdown",
   "id": "f30ef31d-f3d2-44cd-948b-e9d1b112a3c2",
   "metadata": {
    "deletable": false,
    "editable": false,
    "nbgrader": {
     "cell_type": "markdown",
     "checksum": "6274837219bfe724a5362f5e07a01af2",
     "grade": false,
     "grade_id": "cell-f619e74fa5bfddea",
     "locked": true,
     "schema_version": 3,
     "solution": false,
     "task": false
    },
    "tags": []
   },
   "source": [
    "### Zadanie 2: Badanie intensywności procesu punktowego metodą funkcji jądrowych (20 pkt)\n",
    "\n",
    "Przygotuj funkcję `intensity_on_kde()`, która będzie obliczać intensywność procesu punktowego z wykorzystaniem jądrowego estymatora intensywności.\n",
    "\n",
    "Algorytm postępowania:\n",
    "1) Generujemy punkty pomiarowe na regularnej siatce tak, że poszczególne punkty są oddalone od siebie o odległość $d_x$ w poziomie i $d_y$ w pionie, a skrajne punkty leżą na granicach analizowanego obszaru.\n",
    "2) Dla każdego z wygenerowanych punktów pomiarowych szacujemy intensywność procesu za pomocą jądrowego estymatora intensywności danego wzorem:\n",
    "$$ \t\\grave{\\lambda}(x,y) = \\sum_{d_i < \\tau} \\frac{3}{\\pi \\tau^2} (1-\\frac{d_i^2}{\\tau^2})^2$$ \n",
    "gdzie: $d_i$ - odległość punktu od centrum funkcji jądrowej, $\\tau$ - promień funkcji jądrowej.\n",
    "\n",
    "Uwagi do wykonania zadania:\n",
    "- Podczas pisania funkcji należy wykorzystać maksymalnie jedną pętlę `for` iterującą po kolejnych pozycjach funkcji jądrowej. Nie należy korzystać z pętli `for` podczas wyliczania wartości funkcji jądrowej w poszczególnych jej lokalizacjach.\n",
    "- Funkcja przygotowana według powyższych wytycznych nie ma wbudowanego mechanizmu korekty na efekt brzegowy, w związku z czym będzie zaniżać wartość intensywności przy krawędziach analizowanego obszaru."
   ]
  },
  {
   "cell_type": "markdown",
   "id": "cddfa02e-4753-4003-af90-2aba8fc1f55b",
   "metadata": {
    "deletable": false,
    "editable": false,
    "nbgrader": {
     "cell_type": "markdown",
     "checksum": "9538a283326b3202f972d387f176062c",
     "grade": false,
     "grade_id": "cell-c132b42ef73b39dd",
     "locked": true,
     "schema_version": 3,
     "solution": false,
     "task": false
    },
    "tags": []
   },
   "source": [
    "#### a) Przygotowanie funkcji"
   ]
  },
  {
   "cell_type": "code",
   "execution_count": null,
   "id": "0411813d-1c1f-435e-8fad-3383984529ed",
   "metadata": {
    "deletable": false,
    "nbgrader": {
     "cell_type": "code",
     "checksum": "4ff676d56841bf9aac11cec10c0994b1",
     "grade": false,
     "grade_id": "cell-b00217faae7981e3",
     "locked": false,
     "schema_version": 3,
     "solution": true,
     "task": false
    },
    "tags": []
   },
   "outputs": [],
   "source": [
    "def intensity_on_kde(points, kernel_radius, grid, x_lim, y_lim):\n",
    "    \"\"\"\n",
    "    Parameters\n",
    "    -------\n",
    "    points: DataFrame\n",
    "        Tablica zawierająca dwie kolumny ze współrzędnymi punktów opisane jako \"X\" i \"Y\".\n",
    "    kernel_radius: float\n",
    "        Liczba dodatnia określająca promień funkcji jądrowej.\n",
    "    grid: list\n",
    "        Lista określająca liczbę punktów w poziomie i pionie, dla których wyliczane będą wartości intensywności.\n",
    "        Przykład: [10, 10]\n",
    "    x_lim: list\n",
    "        Lista określająca zakres wartości współrzędnej X.\n",
    "        Przykład: [0, 10]\n",
    "    y_lim: list\n",
    "        Lista określająca zakres wartości współrzędnej Y.\n",
    "        Przykład: [0, 10]   \n",
    "\n",
    "    Returns\n",
    "    -------\n",
    "    intensity_data: DataFrame\n",
    "        Tablica zawierająca trzy kolumny - dwie ze współrzędnymi punktów, dla których wyliczone zostały wartości intensywności\n",
    "        opisane jako \"X\" i \"Y\" oraz kolumnę z wartościami intensywności wyliczonymi dla tych współrzędnych opisaną jako \"I\".\n",
    "    \"\"\"\n",
    "    # YOUR CODE HERE\n",
    "    raise NotImplementedError()"
   ]
  },
  {
   "cell_type": "code",
   "execution_count": null,
   "id": "af9e7e20-292f-43e8-a832-594565827d89",
   "metadata": {
    "deletable": false,
    "editable": false,
    "nbgrader": {
     "cell_type": "code",
     "checksum": "9227315c021d4ed5a5bd348cacfcd6a9",
     "grade": true,
     "grade_id": "cell-fa0dc6e1c42a1ab1",
     "locked": true,
     "points": 13,
     "schema_version": 3,
     "solution": false,
     "task": false
    },
    "tags": []
   },
   "outputs": [],
   "source": [
    "# Komórka testowa\n",
    "test_intensity_2 = intensity_on_kde(points_HP, kernel_radius=1.25, grid=[50, 25], x_lim=[-5, 5], y_lim=[-2.5, 2.5])\n",
    "assert type(test_intensity_2) == pd.DataFrame\n",
    "assert test_intensity_2.shape == (1250, 3)\n",
    "assert list(test_intensity_2.columns) == [\"X\", \"Y\", \"I\"]\n",
    "assert np.isclose(np.min(test_intensity_2[\"X\"]), -5)\n",
    "assert np.isclose(np.max(test_intensity_2[\"X\"]), 5)\n",
    "assert np.isclose(np.min(test_intensity_2[\"Y\"]), -2.5)\n",
    "assert np.isclose(np.max(test_intensity_2[\"Y\"]), 2.5)\n",
    "assert np.isclose(np.min(test_intensity_2[\"I\"]), 7.335892819947689)\n",
    "assert np.isclose(np.max(test_intensity_2[\"I\"]), 20.311900026946358)\n",
    "assert np.isclose(np.mean(test_intensity_2[\"I\"]), 14.054515271834926)"
   ]
  },
  {
   "cell_type": "markdown",
   "id": "2d679ee7-c1a9-44fd-9251-0126e1ec6a83",
   "metadata": {
    "deletable": false,
    "editable": false,
    "nbgrader": {
     "cell_type": "markdown",
     "checksum": "47467d07cf294972b91cc6522a84a50d",
     "grade": false,
     "grade_id": "cell-7c7b20f5d6ae39fb",
     "locked": true,
     "schema_version": 3,
     "solution": false,
     "task": false
    },
    "tags": []
   },
   "source": [
    "#### b) Wygenerowanie danych i wizualizacja\n",
    "Wykorzystaj przygotowaną funkcje do zbadania intensywności wszystkich wczytanych do notatnika rozkładów punktowych. Wykonaj obliczania dla promienia funkcji jądrowej równego 1.5 i siatki 200x100 punktów pomiarowych. Analizę przeprowadź dla całego obszaru, na którym zostały wygenerowane punkty.\n",
    "\n",
    "Przedstaw wyniki analizy graficznie w postaci wykresów konturowych z wypełnieniem z nałożonymi na nie rozkładami punktów. Zestaw wyniki na pojedynczej figurze (siatka wykresów 2x2). Dla wszystkich histogramów ustaw tę samą skalę kolorów z identycznym zakresem wartości ustalonym na podstawie minimalnej i maksymalnej wartości intensywności wyznaczonej dla kompletu analizowanych rozkładów."
   ]
  },
  {
   "cell_type": "code",
   "execution_count": null,
   "id": "f2b921e4-e1f9-4832-90b0-7b4b9a4e38b3",
   "metadata": {
    "deletable": false,
    "nbgrader": {
     "cell_type": "code",
     "checksum": "b3b86fa176950d72ed7fdb8699898702",
     "grade": true,
     "grade_id": "cell-f8cd20d253f13d11",
     "locked": false,
     "points": 7,
     "schema_version": 3,
     "solution": true,
     "task": false
    },
    "tags": []
   },
   "outputs": [],
   "source": [
    "# YOUR CODE HERE\n",
    "raise NotImplementedError()"
   ]
  }
 ],
 "metadata": {
  "kernelspec": {
   "display_name": "Python 3 (ipykernel)",
   "language": "python",
   "name": "python3"
  },
  "language_info": {
   "codemirror_mode": {
    "name": "ipython",
    "version": 3
   },
   "file_extension": ".py",
   "mimetype": "text/x-python",
   "name": "python",
   "nbconvert_exporter": "python",
   "pygments_lexer": "ipython3",
   "version": "3.11.0"
  }
 },
 "nbformat": 4,
 "nbformat_minor": 5
}
