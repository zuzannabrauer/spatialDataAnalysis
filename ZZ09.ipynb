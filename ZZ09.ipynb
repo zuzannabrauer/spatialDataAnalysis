{
 "cells": [
  {
   "cell_type": "markdown",
   "id": "d4e3d8b4",
   "metadata": {
    "deletable": false,
    "editable": false,
    "nbgrader": {
     "cell_type": "markdown",
     "checksum": "4bc4ef312ccdd965a2df57a87c78b2a4",
     "grade": false,
     "grade_id": "cell-fcd2666579131b77",
     "locked": true,
     "schema_version": 3,
     "solution": false,
     "task": false
    },
    "tags": []
   },
   "source": [
    "# Analiza danych przestrzennych - ćwiczenia laboratoryjne 2023/2024\n",
    "\n",
    "Ten notatnik zalicza się do grupy zestawów zadań, na podstawie których odbywa się zaliczenie ćwiczeń i podlega zwrotowi do oceny w ustalonym na zajęciach terminie.\n",
    "\n",
    "Uwagi i wytyczne ogólne dotyczące uzupełniania i oceny notatnika:\n",
    "- Podczas wykonywania zadań należy korzystać wyłącznie z pakietów zaimportowanych na początku notatnika oraz z pakietów wchodzących w skład standardowej biblioteki Pythona, które można zaimportować samodzielnie we wskazanej komórce notatnika.\n",
    "- Swoje rozwiązania należy wprowadzać wyłącznie w miejce następujących fragmentów kodu:<br/> `# YOUR CODE HERE`<br/> `raise NotImplementedError()`<br/> \n",
    "a odpowiedzi tekstowe w komórkach oznaczonych hasłem:<br/> \n",
    "`YOUR ANSWER HERE`<br/> \n",
    "Nie należy w żaden sposób modyfikować pozostałych fragmentów kodu oraz innych elementów notatnika, w szczególności dodawać lub usuwać komórek oraz zmieniać nazwy pliku.\n",
    "- Jeżeli zestaw zadań wymaga skorzystania z fragmentów kodu opracowanego w ramach wcześniejszych zestawów zadań należy je umieścić we wskazanej komórce notatnika.\n",
    "- Otrzymywane wyniki i odpowiedzi mają być rezultatem wykonania napisanego kodu, odpowiedzi uzupełniane manualnie nie podlegają ocenie.\n",
    "- Zawarte w notatniku automatyczne testy mają charakter poglądowy. Dotyczą one wybranych aspektów zadań i mają na celu wyłapać podstawowe błędy. Przejście przez kod wszystkich testów nie oznacza, że zadanie jest wykonane w całości poprawnie i zostanie ocenione na maksymalną liczbę punktów.\n",
    "- Zadania należy wykonać w taki sposób, aby podczas wykonywania kodu nie zostały wyświetlone żadne ostrzeżenia.\n",
    "- Zadania, które powodują wyświetlenie komunikatu o błędzie przerywającym wykonywanie kodu nie podlegają ocenie.\n",
    "\n",
    "Uwagi i wytyczne ogólne dotyczące wizualizacji wyników:\n",
    "- Wszystkie wykresy powinny być wykonane w jednolitym, przejrzystym i czytelnym stylu, posiadać odpowiednio dobrane proporcje i zakresy wartości osi.\n",
    "- Figury powinny mieć ustawione białe tło, tak, aby niezależnie od ustawień notatnika wszystkie elementy wykresów były dobrze widoczne (domyślnie tło jest przeźroczyste co może powodować problemy w notatnikach z ustawionym ciemnym tłem). Rozmiar poziomy figur nie powinien przekraczać 20 cali.\n",
    "- Wykresy oraz ich osie powinny mieć nadane tytuły. Jeżeli w obrębie figury znajduje się więcej niż jeden wykres to figura również powinna mieć nadany tytuł.\n",
    "- Zakresy osi wykresów przedstawiających rozkłady punktów w przestrzeni powinny być docięte do granic obszaru, na którym został wygenerowany proces punktowy.\n",
    "- Proporcje osi wykresów przedstawiających rozkłady punktów w przestrzeni powinny być dobrane tak, aby wykresy odzwierciedlały rzeczywisty rozkład punktów w przestrzeni. Nie należy osiągać tego efektu manipulując rozmiarem całej figury.\n",
    "\n",
    "Przed odesłaniem zestawu zadań do oceny proszę uzupełnić komórkę z danymi autorów rozwiązania (nazwa zespołu oraz imiona, nazwiska i numery indeksów członków zespołu) oraz upewnić się, że notatnik działa zgodnie z oczekiwaniami. W tym celu należy skorzystać z opcji **Restart Kernel and Run All Cells...** dostępnej na górnej belce notatnika pod symbolem $\\blacktriangleright\\blacktriangleright$."
   ]
  },
  {
   "cell_type": "raw",
   "id": "2a26d60c",
   "metadata": {},
   "source": [
    "Nazwa zespołu: IAD14\n",
    "Członkowie: Sandra Głowacka, Izabela Karczewska, Natalia Kołodziejczyk, Zuzanna Brauer"
   ]
  },
  {
   "cell_type": "markdown",
   "id": "3998562a",
   "metadata": {
    "deletable": false,
    "editable": false,
    "nbgrader": {
     "cell_type": "markdown",
     "checksum": "eddc8826810e4a6f7bf68319da334bd9",
     "grade": false,
     "grade_id": "cell-109006d425e5cf83",
     "locked": true,
     "schema_version": 3,
     "solution": false,
     "task": false
    },
    "tags": []
   },
   "source": [
    "---"
   ]
  },
  {
   "cell_type": "markdown",
   "id": "09ae627f-7781-432c-92be-054e5c5f19d0",
   "metadata": {
    "deletable": false,
    "editable": false,
    "nbgrader": {
     "cell_type": "markdown",
     "checksum": "f10528843096d0a21196d0273ecc9a4d",
     "grade": false,
     "grade_id": "cell-be413733df21fa86",
     "locked": true,
     "schema_version": 3,
     "solution": false,
     "task": false
    },
    "tags": []
   },
   "source": [
    "## Zestaw zadań 9: Analiza danych przestrzennych z wykorzystaniem dedykowanych pakietów (część 3)"
   ]
  },
  {
   "cell_type": "code",
   "execution_count": 3,
   "id": "1d9566ae-0c1b-4f68-9203-c5924a3651ae",
   "metadata": {
    "deletable": false,
    "editable": false,
    "nbgrader": {
     "cell_type": "code",
     "checksum": "6222ac30e23f4b635937520a4d1567f3",
     "grade": false,
     "grade_id": "cell-baaf088fa7f91aec",
     "locked": true,
     "schema_version": 3,
     "solution": false,
     "task": false
    },
    "tags": []
   },
   "outputs": [],
   "source": [
    "import numpy as np\n",
    "import pandas as pd\n",
    "import scipy as sp\n",
    "import matplotlib as mpl\n",
    "import matplotlib.pyplot as plt\n",
    "import seaborn as sns\n",
    "import geopandas as gpd\n",
    "import pointpats as pp"
   ]
  },
  {
   "cell_type": "code",
   "execution_count": null,
   "id": "316bb8bc-c226-49f2-9e30-21fcf0edd040",
   "metadata": {
    "tags": []
   },
   "outputs": [],
   "source": [
    "# Miejsce do importu pakietów wchodzących w skład standardowej biblioteki Pythona oraz ustawienie opcji wykorzystywanych pakietów"
   ]
  },
  {
   "cell_type": "code",
   "execution_count": null,
   "id": "c6aefef5-b6e6-4e97-a057-747d6510634c",
   "metadata": {
    "deletable": false,
    "nbgrader": {
     "cell_type": "code",
     "checksum": "184016de6c951d03ab3f5c1f041015a1",
     "grade": false,
     "grade_id": "cell-a46c08df43df6fd7",
     "locked": false,
     "schema_version": 3,
     "solution": true,
     "task": false
    },
    "tags": []
   },
   "outputs": [],
   "source": [
    "# Miejsce do wklejenie funkcji ze wcześniejszych zestawów zadań\n",
    "def g_function_poisson(d, intensity):\n",
    "    G = 1 - np.exp(-intensity*np.pi*d*d)\n",
    "    g = pd.DataFrame({\"D\":d, \"G\":G})\n",
    "    return g\n",
    "\n",
    "def f_function_poisson(d, intensity):\n",
    "    distances_min = np.sort(np.array(d))\n",
    "    F = 1 - np.exp(-intensity*np.pi*d*d)\n",
    "    return pd.DataFrame({\"D\" : distances_min, \"F\" : F})"
   ]
  },
  {
   "cell_type": "markdown",
   "id": "603eda5e-a368-4dd6-ae49-964d6b182347",
   "metadata": {
    "deletable": false,
    "editable": false,
    "nbgrader": {
     "cell_type": "markdown",
     "checksum": "5cf0adcb994e8255bcfc5a7f78df5dfa",
     "grade": false,
     "grade_id": "cell-bad8918ddd1cedc5",
     "locked": true,
     "schema_version": 3,
     "solution": false,
     "task": false
    },
    "tags": []
   },
   "source": [
    "#### UWAGA!\n",
    "Każde z zadań w tym notatniku będzie wymagało skorzystania z funkcji biblioteki pysal. Ponieważ znaczna część przykładów i dokumentacji modułów wchodzących w skład pakietu pysal dostępna w internecie nie dotyczny ich najnowszych wersji proszę korzystać z dokumentacji wywoływanej bezpośrednio w notatniku pod treścią każdego z zadań."
   ]
  },
  {
   "cell_type": "markdown",
   "id": "11653a05-5bd0-4169-87cb-e5173bd99c66",
   "metadata": {
    "deletable": false,
    "editable": false,
    "nbgrader": {
     "cell_type": "markdown",
     "checksum": "dbb3475f88a7958757e17b4da21b4c4a",
     "grade": false,
     "grade_id": "cell-3d9b6dc04e7b8e64",
     "locked": true,
     "schema_version": 3,
     "solution": false,
     "task": false
    },
    "tags": []
   },
   "source": [
    "### Wczytanie danych\n",
    "\n",
    "Załączone do notatnika pliki zawierają dane niezbędne do wykonania zadań oraz dane wykorzystywane w zawartych w notatniku automatycznych testach. W celu wczytania danych do notatnika umieść pliki w tym samym folderze, w którym znajduje się notatnik."
   ]
  },
  {
   "cell_type": "code",
   "execution_count": 4,
   "id": "1ec93e1d-9486-4e87-a1f2-ebdfdcc82dcc",
   "metadata": {
    "deletable": false,
    "editable": false,
    "nbgrader": {
     "cell_type": "code",
     "checksum": "ecac4f960d9237da69196bb5ae2eddee",
     "grade": false,
     "grade_id": "cell-9c5827e1303cedf5",
     "locked": true,
     "schema_version": 3,
     "solution": false,
     "task": false
    },
    "tags": []
   },
   "outputs": [],
   "source": [
    "# Wczytanie danych\n",
    "kraj = gpd.read_file(\"Kraj.zip\", encoding=\"utf-8\")\n",
    "points_1 = gpd.read_file(\"points_1.zip\", encoding=\"utf-8\")\n",
    "points_2 = gpd.read_file(\"points_2.zip\", encoding=\"utf-8\")\n",
    "points_3 = gpd.read_file(\"points_3.zip\", encoding=\"utf-8\")\n",
    "\n",
    "test_points = gpd.read_file(\"test_points.zip\", encoding=\"utf-8\")\n",
    "test_data = gpd.read_file(\"test_data.zip\", encoding=\"utf-8\")"
   ]
  },
  {
   "cell_type": "markdown",
   "id": "c8bfc978-36cc-44ee-9ee5-a496fc7e406a",
   "metadata": {
    "deletable": false,
    "editable": false,
    "nbgrader": {
     "cell_type": "markdown",
     "checksum": "88ba11f7d3104cfbf27ceedca32f2b7e",
     "grade": false,
     "grade_id": "cell-2e6bc852b6b740be",
     "locked": true,
     "schema_version": 3,
     "solution": false,
     "task": false
    },
    "tags": []
   },
   "source": [
    "### Zadanie 1: Funkcja G (7 pkt)\n",
    "\n",
    "#### a) Przygotowanie funkcji\n",
    "Wykorzystując funkcję `pointpats.distance_statistics.g()` przygotuj funkcję `g_function()`, która będzie generować dane niezbędne do wykonania wykresu funkcji G analizowanego rozkładu punktów.\n",
    "\n",
    "Uwagi do wykonania zadania:\n",
    " - Funkcja `pointpats.distance_statistics.g()` nie wymaga podania wszystkich parametrów wymienionych w dokumentacji. Do wykonania zadania niezbędne jest wykorzystanie jedynie parametrów `coordinates` i `support`."
   ]
  },
  {
   "cell_type": "code",
   "execution_count": null,
   "id": "30884d5f-c781-4e22-a883-ccf7a896bb82",
   "metadata": {
    "deletable": false,
    "editable": false,
    "nbgrader": {
     "cell_type": "code",
     "checksum": "9df00c2ca259949cdc819d5de99a3efd",
     "grade": false,
     "grade_id": "cell-15d6a188dee473bf",
     "locked": true,
     "schema_version": 3,
     "solution": false,
     "task": false
    },
    "tags": []
   },
   "outputs": [],
   "source": [
    "help(pp.distance_statistics.g)"
   ]
  },
  {
   "cell_type": "code",
   "execution_count": null,
   "id": "b0376bd5-01af-40a1-a194-4106f5e5446f",
   "metadata": {
    "deletable": false,
    "nbgrader": {
     "cell_type": "code",
     "checksum": "b142b4a5b6104b417cf4de95b1bcd78d",
     "grade": false,
     "grade_id": "cell-45a156c6228d6a05",
     "locked": false,
     "schema_version": 3,
     "solution": true,
     "task": false
    },
    "tags": []
   },
   "outputs": [],
   "source": [
    "def g_function(points, intervals):\n",
    "    coordinates=pd.DataFrame({\"X\":points.geometry.x, \"Y\":points.geometry.y})\n",
    "    g=pp.distance_statistics.g(coordinates, intervals)\n",
    "    g=pd.DataFrame({\"D\":g[0],\"G\":g[1]})\n",
    "    return g"
   ]
  },
  {
   "cell_type": "code",
   "execution_count": null,
   "id": "297b43d8-7ca4-463a-b356-b11453b98b19",
   "metadata": {
    "deletable": false,
    "editable": false,
    "nbgrader": {
     "cell_type": "code",
     "checksum": "5f9807a3674af07003da62f8b34386af",
     "grade": true,
     "grade_id": "cell-4f646bde6a0bd41d",
     "locked": true,
     "points": 4,
     "schema_version": 3,
     "solution": false,
     "task": false
    },
    "tags": []
   },
   "outputs": [],
   "source": [
    "# Komórka testowa\n",
    "test_results_1 = g_function(test_points, 50)\n",
    "\n",
    "assert type(test_results_1) == pd.DataFrame\n",
    "assert test_results_1.shape == (50, 2)\n",
    "assert list(test_results_1.columns) == [\"D\", \"G\"]\n",
    "assert np.isclose(test_results_1[\"D\"].min(), 0.0)\n",
    "assert np.isclose(test_results_1[\"D\"].max(), 14639.02603209451)\n",
    "assert np.isclose(test_results_1[\"D\"].mean(), 7319.513016047255)\n",
    "assert np.isclose(test_results_1[\"G\"].min(), 0.0)\n",
    "assert np.isclose(test_results_1[\"G\"].max(), 1.0)\n",
    "assert np.isclose(test_results_1[\"G\"].mean(), 0.8209685230024212)"
   ]
  },
  {
   "cell_type": "markdown",
   "id": "45a64d22-96f0-4d18-83d8-a8abc8afc8da",
   "metadata": {
    "deletable": false,
    "editable": false,
    "nbgrader": {
     "cell_type": "markdown",
     "checksum": "e3114c7ab7dbe8b0a414fbd6dc264cf0",
     "grade": false,
     "grade_id": "cell-377bc206e758d005",
     "locked": true,
     "schema_version": 3,
     "solution": false,
     "task": false
    },
    "tags": []
   },
   "source": [
    "#### b) Wygenerowanie danych i wizualizacja\n",
    "\n",
    "Wykorzystaj przygotowaną funkcję do wygenerowania danych dla rozkładów punktów `points_1`, `points_2` i `points_3`. \n",
    "\n",
    "Przedstaw wyniki analizy graficznie w postaci wykresów liniowych funkcji G przygotowanych rozkładów punktów zestawionych z teoretyczną funkcją G jednorodnego rozkładu Poissona o odpowiednio dobranej intensywności. Zestaw wyniki na pojedynczej figurze (siatka wykresów 2x3). Umieść analizowane rozkłady punktów na tle granic poligonu, w obrębie którego zostały wygenerowane w górnym wierszu, a wykresy funkcji G w dolnym wierszu figury. \n",
    "\n",
    "Uwagi do wykonania zadania:\n",
    "- W części zadania dotyczącej generowania teoretycznej funkcji G jednorodnego rozkładu Poissona nie należy pisać kodu od podstaw, a jedynie skorzystać z przygotowanej wcześniej funkcji `g_function_poisson()`, którą można wkleić we wskazanej komórce na początku notatnika.\n",
    "- Wszystkie z analizowanych rozkładów punktów zostały wygenerowane w obrębie granic Polski. "
   ]
  },
  {
   "cell_type": "code",
   "execution_count": null,
   "id": "4b4d272c-6c0f-48c9-a927-c970adcc9007",
   "metadata": {
    "deletable": false,
    "nbgrader": {
     "cell_type": "code",
     "checksum": "e30bbffb49bc5f2230edd7d76705de33",
     "grade": true,
     "grade_id": "cell-375f59319229e78d",
     "locked": false,
     "points": 3,
     "schema_version": 3,
     "solution": true,
     "task": false
    },
    "tags": []
   },
   "outputs": [],
   "source": [
    "g_points1 = g_function(points_1, 150)\n",
    "g_poisson1 = g_function_poisson(g_points1.D,len(points_1)/kraj.geometry.area[0])\n",
    "g_points2 = g_function(points_2, 150)\n",
    "g_poisson2 = g_function_poisson(g_points2.D,len(points_2)/kraj.geometry.area[0])\n",
    "g_points3 = g_function(points_3, 150)\n",
    "g_poisson3 = g_function_poisson(g_points3.D,len(points_1)/kraj.geometry.area[0])\n",
    "figure, ax = plt.subplots(2,3,figsize=(15,12))\n",
    "\n",
    "ax[0,0].set_title(\"Wizualizacja points_1\")\n",
    "ax[0,0].set_xlabel(\"X\")\n",
    "ax[0,0].tick_params(axis=\"x\",labelrotation=30)\n",
    "ax[0,0].set_ylabel(\"Y\")\n",
    "kraj.boundary.plot(color=\"#7C8483\",ax=ax[0,0],linewidth=1.5)\n",
    "points_1.plot(color=\"#982649\",ax=ax[0,0],alpha=0.5,markersize=10)\n",
    "\n",
    "ax[0,1].set_title(\"Wizualizacja points_2\")\n",
    "ax[0,1].set_xlabel(\"X\")\n",
    "ax[0,1].tick_params(axis=\"x\",labelrotation=30)\n",
    "ax[0,1].set_ylabel(\"Y\")\n",
    "kraj.boundary.plot(color=\"#7C8483\",ax=ax[0,1],linewidth=1.5)\n",
    "points_2.plot(color=\"#982649\",ax=ax[0,1],alpha=0.5,markersize=10)\n",
    "\n",
    "ax[0,2].set_title(\"Wizualizacja points_2\")\n",
    "ax[0,2].set_xlabel(\"X\")\n",
    "ax[0,2].tick_params(axis=\"x\",labelrotation=30)\n",
    "ax[0,2].set_ylabel(\"Y\")\n",
    "kraj.boundary.plot(color=\"#7C8483\",ax=ax[0,2],linewidth=1.5)\n",
    "points_3.plot(color=\"#982649\",ax=ax[0,2],alpha=0.5,markersize=10)\n",
    "\n",
    "ax[1,0].set_title(\"Funkcja g points_1\")\n",
    "sns.scatterplot(data=g_poisson1,x=\"D\", y=\"G\",ax=ax[1,0],color =\"#49C6E5\",size=10,legend=False)\n",
    "sns.scatterplot(data=g_points1,x=\"D\", y=\"G\",ax=ax[1,0],color =\"#982649\",size=10,legend=False)\n",
    "\n",
    "ax[1,1].set_title(\"Funkcja g points_2\")\n",
    "sns.scatterplot(data=g_poisson2,x=\"D\", y=\"G\",ax=ax[1,1],color =\"#49C6E5\",size=10,legend=False)\n",
    "sns.scatterplot(data=g_points2,x=\"D\", y=\"G\",ax=ax[1,1],color =\"#982649\",size=10,legend=False)\n",
    "\n",
    "ax[1,2].set_title(\"Funkcja g points_3\")\n",
    "sns.scatterplot(data=g_poisson3,x=\"D\", y=\"G\",ax=ax[1,2],color =\"#49C6E5\",size=10,legend=False)\n",
    "sns.scatterplot(data=g_points3,x=\"D\", y=\"G\",ax=ax[1,2],color =\"#982649\",size=10,legend=False)"
   ]
  },
  {
   "cell_type": "markdown",
   "id": "4cf68f44-1167-4437-8aa8-cf39d9cb4810",
   "metadata": {
    "deletable": false,
    "editable": false,
    "nbgrader": {
     "cell_type": "markdown",
     "checksum": "6e1635376c9493e833c7a1be949a5b92",
     "grade": false,
     "grade_id": "cell-a82bb0d8bf864786",
     "locked": true,
     "schema_version": 3,
     "solution": false,
     "task": false
    },
    "tags": []
   },
   "source": [
    "### Zadanie 2: Funkcja F (7 pkt)\n",
    "\n",
    "#### a) Przygotowanie funkcji\n",
    "Wykorzystując funkcję `pointpats.distance_statistics.f()` przygotuj funkcję `f_function()`, która będzie generować dane niezbędne do wykonania wykresu funkcji F analizowanego rozkładu punktów.\n",
    "\n",
    "Uwagi do wykonania zadania:\n",
    " - Funkcja `pointpats.distance_statistics.f()` nie wymaga podania wszystkich parametrów podanych w dokumentacji. Do wykonania zadania niezbędne jest wykorzystanie jedynie parametrów `coordinates`, `support` i `hull`."
   ]
  },
  {
   "cell_type": "code",
   "execution_count": null,
   "id": "192e4130-3a6b-4c21-89f7-a051e4137ee7",
   "metadata": {
    "deletable": false,
    "editable": false,
    "nbgrader": {
     "cell_type": "code",
     "checksum": "e0534bc602c25ccc7b3a29d6ed7b0ed9",
     "grade": false,
     "grade_id": "cell-2bc9aa32eee5186c",
     "locked": true,
     "schema_version": 3,
     "solution": false,
     "task": false
    },
    "tags": []
   },
   "outputs": [],
   "source": [
    "help(pp.distance_statistics.f)"
   ]
  },
  {
   "cell_type": "code",
   "execution_count": null,
   "id": "0bfdcd73-de07-4fb2-9f0d-c39f330c6667",
   "metadata": {
    "deletable": false,
    "nbgrader": {
     "cell_type": "code",
     "checksum": "2e56ff486b080e6912688fd2315941b6",
     "grade": false,
     "grade_id": "cell-964b50b6a1ffb0fa",
     "locked": false,
     "schema_version": 3,
     "solution": true,
     "task": false
    },
    "tags": []
   },
   "outputs": [],
   "source": [
    "def f_function(points, intervals, polygon):\n",
    "    coordinates = pd.DataFrame({\"X\" : points.geometry.x, \"Y\" : points.geometry.y})\n",
    "    f = pp.distance_statistics.f(coordinates,support = intervals,hull=polygon.geometry[0])\n",
    "    f = pd.DataFrame({\"D\" : f[0],\"F\" : f[1]})\n",
    "    return f"
   ]
  },
  {
   "cell_type": "code",
   "execution_count": null,
   "id": "a014ba2a-06b9-4bd7-a376-faf2924f10d2",
   "metadata": {
    "deletable": false,
    "editable": false,
    "nbgrader": {
     "cell_type": "code",
     "checksum": "979727d671b4dbe346cd1c6d69e4a844",
     "grade": true,
     "grade_id": "cell-dcd7b195cc5fa8ec",
     "locked": true,
     "points": 4,
     "schema_version": 3,
     "solution": false,
     "task": false
    },
    "tags": []
   },
   "outputs": [],
   "source": [
    "# Komórka testowa\n",
    "test_results_2 = f_function(test_points, 50, test_data)\n",
    "\n",
    "assert type(test_results_2) == pd.DataFrame\n",
    "assert test_results_2.shape == (50, 2)\n",
    "assert list(test_results_2.columns) == [\"D\", \"F\"]\n",
    "assert np.isclose(test_results_2[\"D\"].min(), 0.0)\n",
    "assert np.isclose(test_results_2[\"F\"].min(), 0.0)\n",
    "assert np.isclose(test_results_2[\"F\"].max(), 1.0)"
   ]
  },
  {
   "cell_type": "markdown",
   "id": "67e005c0-c1cb-40dc-b3fd-b633092bad0c",
   "metadata": {
    "deletable": false,
    "editable": false,
    "nbgrader": {
     "cell_type": "markdown",
     "checksum": "9c94c7a526f6c8abdfb8f60f71592b00",
     "grade": false,
     "grade_id": "cell-0f678495b7fb1273",
     "locked": true,
     "schema_version": 3,
     "solution": false,
     "task": false
    },
    "tags": []
   },
   "source": [
    "#### b) Wygenerowanie danych i wizualizacja\n",
    "\n",
    "Wykorzystaj przygotowaną funkcję do wygenerowania danych dla rozkładów punktów `points_1`, `points_2` i `points_3`.\n",
    "\n",
    "Przedstaw wyniki analizy graficznie w postaci wykresów liniowych funkcji F przygotowanych rozkładów punktów zestawionych z teoretyczną funkcją F jednorodnego rozkładu Poissona o odpowiednio dobranej intensywności. Zestaw wyniki na pojedynczej figurze (siatka wykresów 2x3). Umieść analizowane rozkłady punktów na tle granic poligonu, w obrębie którego zostały wygenerowane w górnym wierszu, a wykresy funkcji F w dolnym wierszu figury. \n",
    "\n",
    "Uwagi do wykonania zadania:\n",
    "- W części zadania dotyczącej generowania teoretycznej funkcji F jednorodnego rozkładu Poissona nie należy pisać kodu od podstaw, a jedynie skorzystać z przygotowanej wcześniej funkcji `f_function_poisson()`, którą można wkleić we wskazanej komórce na początku notatnika. \n",
    "- Wszystkie z analizowanych rozkładów punktów zostały wygenerowane w obrębie granic Polski. "
   ]
  },
  {
   "cell_type": "code",
   "execution_count": null,
   "id": "16b258c7-fd05-44a3-bd48-66a5f15b6c28",
   "metadata": {
    "deletable": false,
    "nbgrader": {
     "cell_type": "code",
     "checksum": "f28c0a5782f863843130eb6a1065bbfd",
     "grade": true,
     "grade_id": "cell-d37cf452abff0515",
     "locked": false,
     "points": 3,
     "schema_version": 3,
     "solution": true,
     "task": false
    },
    "tags": []
   },
   "outputs": [],
   "source": [
    "f_points1 = f_function(points_1, 150,kraj)\n",
    "f_poisson1 = f_function_poisson(f_points1.D,len(points_1)/kraj.geometry.area[0])\n",
    "f_points2 = f_function(points_2, 150,kraj)\n",
    "f_poisson2 = f_function_poisson(f_points2.D,len(points_2)/kraj.geometry.area[0])\n",
    "f_points3 = f_function(points_3, 150,kraj)\n",
    "f_poisson3 = f_function_poisson(f_points3.D,len(points_1)/kraj.geometry.area[0])\n",
    "figure, ax = plt.subplots(2,3,figsize=(15,12))\n",
    "\n",
    "ax[0,0].set_title(\"Wizualizacja points_1\")\n",
    "ax[0,0].set_xlabel(\"X\")\n",
    "ax[0,0].tick_params(axis=\"x\",labelrotation=30)\n",
    "ax[0,0].set_ylabel(\"Y\")\n",
    "kraj.boundary.plot(color=\"#7C8483\",ax=ax[0,0],linewidth=1.5)\n",
    "points_1.plot(color=\"#982649\",ax=ax[0,0],alpha=0.5,markersize=10)\n",
    "\n",
    "ax[0,1].set_title(\"Wizualizacja points_2\")\n",
    "ax[0,1].set_xlabel(\"X\")\n",
    "ax[0,1].tick_params(axis=\"x\",labelrotation=30)\n",
    "ax[0,1].set_ylabel(\"Y\")\n",
    "kraj.boundary.plot(color=\"#7C8483\",ax=ax[0,1],linewidth=1.5)\n",
    "points_2.plot(color=\"#982649\",ax=ax[0,1],alpha=0.5,markersize=10)\n",
    "\n",
    "ax[0,2].set_title(\"Wizualizacja points_2\")\n",
    "ax[0,2].set_xlabel(\"X\")\n",
    "ax[0,2].tick_params(axis=\"x\",labelrotation=30)\n",
    "ax[0,2].set_ylabel(\"Y\")\n",
    "kraj.boundary.plot(color=\"#7C8483\",ax=ax[0,2],linewidth=1.5)\n",
    "points_3.plot(color=\"#982649\",ax=ax[0,2],alpha=0.5,markersize=10)\n",
    "\n",
    "ax[1,0].set_title(\"Funkcja f points_1\")\n",
    "sns.scatterplot(data=f_poisson1,x=\"D\", y=\"F\",ax=ax[1,0],color =\"#49C6E5\",size=10,legend=False)\n",
    "sns.scatterplot(data=f_points1,x=\"D\", y=\"F\",ax=ax[1,0],color =\"#982649\",size=10,legend=False)\n",
    "\n",
    "ax[1,1].set_title(\"Funkcja f points_2\")\n",
    "sns.scatterplot(data=f_poisson2,x=\"D\", y=\"F\",ax=ax[1,1],color =\"#49C6E5\",size=10,legend=False)\n",
    "sns.scatterplot(data=f_points2,x=\"D\", y=\"F\",ax=ax[1,1],color =\"#982649\",size=10,legend=False)\n",
    "\n",
    "ax[1,2].set_title(\"Funkcja f points_3\")\n",
    "sns.scatterplot(data=f_poisson3,x=\"D\", y=\"F\",ax=ax[1,2],color =\"#49C6E5\",size=10,legend=False)\n",
    "sns.scatterplot(data=f_points3,x=\"D\", y=\"F\",ax=ax[1,2],color =\"#982649\",size=10,legend=False)"
   ]
  },
  {
   "cell_type": "markdown",
   "id": "7ed04902-c277-4865-ab2c-c62207a30f6b",
   "metadata": {
    "deletable": false,
    "editable": false,
    "nbgrader": {
     "cell_type": "markdown",
     "checksum": "74a5c8c7e8ebdad9a7de1b33e61ab26b",
     "grade": false,
     "grade_id": "cell-f97f53b73dba357b",
     "locked": true,
     "schema_version": 3,
     "solution": false,
     "task": false
    },
    "tags": []
   },
   "source": [
    "### Zadanie 3: Analiza Monte-Carlo na przykładzie funkcji G (16 pkt)\n",
    "\n",
    "#### a) Przygotowanie funkcji\n",
    "\n",
    "Korzystając z funkcji `pointpats.distance_statistics.g_test()` przygotuj funkcję `g_test_mc()`, która będzie przeprowadzała analizę Monte-Carlo funkcji G testowanego rozkładu punktów oraz przygotowywała dane niezbędne do wizualizacji wyników testu.\n",
    "\n",
    "Funkcja `pointpats.distance_statistics.g_test()` może zostać wykorzystana do wielokrotnego zasymulowania jednorodnego procesu Poissona o intensywności równej intensywności testowanego procesu i wyliczeniu funkcji G dla każdego z zasymulowanych rozkładów. Funkcje te mogą posłużyć do wykreślenia obwiedni. Jeżeli funkcja G analizowanego rozkładu w całości znajduje się w obwiedni to nie ma podstaw do odrzucenia HO na rzecz H1. W przeciwnym przypadku następuje odrzucenie H0 na rzecz H1. Poziom istotności wykonywanego testu wynosi $\\alpha= \\frac{2}{n+1}$, gdzie $n$ to liczba wykonywanych symulacji.\n",
    "\n",
    "Funkcja `g_test_mc()` poza zwracaniem wartości określonych w docstring funkcji powinna również wyświetlać komunikat o wyniku testu zawierający: <br/>\n",
    "- postać hipotezy zerowej,\n",
    "- postać hipotezy alternatywnej,\n",
    "- informację o wyniku testu: \"Wynik testu istotności nie daje podstaw do odrzucenia H0 na rzecz H1 na poziomie istotności alpha = A\" lub \"Odrzucenie H0 na rzecz H1 na poziomie istotności alpha = A\".\n",
    "\n",
    "Przykład komunikatu:\n",
    "<br/>\n",
    "`H0: Testowana zmienna ma jednorodny rozkład losowy Poissona` <br/>\n",
    "`H1: Testowana zmienna nie ma jednorodnego rozkład losowy Poissona` <br/>\n",
    "`Odrzucenie H0 na rzecz H1 na poziomie istotności alpha = 0.02` <br/>\n",
    "\n",
    "Uwagi do wykonania zadania:\n",
    " - Funkcja `pointpats.distance_statistics.g_test()` nie wymaga podania wszystkich parametrów podanych w dokumentacji. Do wykonania zadania niezbędne jest wykorzystanie jedynie parametrów `coordinates`, `support`, `hull`, `keep_simulations` i `n_simulations`."
   ]
  },
  {
   "cell_type": "code",
   "execution_count": null,
   "id": "5247c598-1567-42cd-b6f3-8dd254dd136c",
   "metadata": {
    "deletable": false,
    "editable": false,
    "nbgrader": {
     "cell_type": "code",
     "checksum": "b5810f9339e807377294a22d7e6e223e",
     "grade": false,
     "grade_id": "cell-b63087bebda591a2",
     "locked": true,
     "schema_version": 3,
     "solution": false,
     "task": false
    },
    "tags": []
   },
   "outputs": [],
   "source": [
    "help(pp.distance_statistics.g_test)"
   ]
  },
  {
   "cell_type": "code",
   "execution_count": 16,
   "id": "dfacb8ab-7688-4af9-91b4-afa62d0355ad",
   "metadata": {
    "deletable": false,
    "nbgrader": {
     "cell_type": "code",
     "checksum": "e3d1245d5e7ef3a672dc12b4c7f49d1d",
     "grade": false,
     "grade_id": "cell-2546f8cdd036ac88",
     "locked": false,
     "schema_version": 3,
     "solution": true,
     "task": false
    },
    "tags": []
   },
   "outputs": [],
   "source": [
    "def g_test_mc(points, intervals, polygon, number_of_simulations):\n",
    "    points = [[row.geometry.x, row.geometry.y] for index, row in points.iterrows()]\n",
    "    g_test = pp.distance_statistics.g_test(np.array(points), intervals, hull = polygon.geometry[0], n_simulations = number_of_simulations, keep_simulations = True)\n",
    "    g_min = [min(array[i] for array in g_test[3]) for i in range(len(g_test[3][0]))]\n",
    "    g_max = [max(array[i] for array in g_test[3]) for i in range(len(g_test[3][0]))]\n",
    "    alpha = 2/(number_of_simulations+1)\n",
    "    \n",
    "    print(\"H0: Testowana zmienna ma jednorodny rozkład losowy Poissona\")\n",
    "    print(\"H1: Testowana zmienna nie ma jednorodnego rozkładu losowego Poissona\")\n",
    "\n",
    "    reject = 0\n",
    "    for index in range(len(g_test[1])):\n",
    "        if not(g_min[index] < g_test[1][index] < g_max[index]):\n",
    "            reject = 1\n",
    "            print(\"Odrzucenie H0 na rzecz H1 na poziomie istotności alpha = \", alpha)\n",
    "            break\n",
    "    if not(reject):\n",
    "        print(\"Wynik testu istotności nie daje podstaw do odrzucenia H0 na rzecz H1 na poziomie istotności alpha = \", alpha)\n",
    "    \n",
    "    return pd.DataFrame({'D':g_test[0],'G':g_test[1], \"G_min\":g_min, \"G_max\":g_max}), alpha, reject"
   ]
  },
  {
   "cell_type": "code",
   "execution_count": 17,
   "id": "6b4e6fd7-fb42-436b-8728-363d5bcd44e7",
   "metadata": {
    "deletable": false,
    "editable": false,
    "nbgrader": {
     "cell_type": "code",
     "checksum": "a172cbde79eab1e7501022443db43f0c",
     "grade": true,
     "grade_id": "cell-6436b62c23728147",
     "locked": true,
     "points": 11,
     "schema_version": 3,
     "solution": false,
     "task": false
    },
    "tags": []
   },
   "outputs": [
    {
     "name": "stdout",
     "output_type": "stream",
     "text": [
      "H0: Testowana zmienna ma jednorodny rozkład losowy Poissona\n",
      "H1: Testowana zmienna nie ma jednorodnego rozkładu losowego Poissona\n",
      "Odrzucenie H0 na rzecz H1 na poziomie istotności alpha =  0.1\n"
     ]
    }
   ],
   "source": [
    "# Komórka testowa\n",
    "test_results_3 = g_test_mc(test_points, 50, test_data, 19)\n",
    "\n",
    "assert type(test_results_3[0]) == pd.DataFrame\n",
    "assert test_results_3[0].shape == (50, 4)\n",
    "assert list(test_results_3[0].columns) == [\"D\", \"G\", \"G_min\", \"G_max\"]\n",
    "assert np.isclose(test_results_3[0][\"D\"].min(), 0.0)\n",
    "assert np.isclose(test_results_3[0][\"G\"].min(), 0.0)\n",
    "assert np.isclose(test_results_3[0][\"G\"].max(), 1.0)\n",
    "assert np.isclose(test_results_3[0][\"G_min\"].min(), 0.0)\n",
    "assert np.isclose(test_results_3[0][\"G_min\"].max(), 1.0)\n",
    "assert np.isclose(test_results_3[0][\"G_max\"].min(), 0.0)\n",
    "assert np.isclose(test_results_3[0][\"G_max\"].max(), 1.0)\n",
    "assert np.isclose(test_results_3[1], 0.1)\n",
    "assert np.isclose(test_results_3[2], 1)"
   ]
  },
  {
   "cell_type": "markdown",
   "id": "ffea4d63-efbf-4db5-adb5-2032724df163",
   "metadata": {
    "deletable": false,
    "editable": false,
    "nbgrader": {
     "cell_type": "markdown",
     "checksum": "9e37b0a570c5ddedcb343c30522ca38e",
     "grade": false,
     "grade_id": "cell-5edd92ba05b1daf0",
     "locked": true,
     "schema_version": 3,
     "solution": false,
     "task": false
    },
    "tags": []
   },
   "source": [
    "#### b) Wygenerowanie danych i wizualizacja\n",
    "\n",
    "Wykorzystaj przygotowaną funkcję do przetestowania rozkładów punktów `points_1`, `points_2` i `points_3` na poziomie istotności $\\alpha=0.05$. \n",
    "\n",
    "Przedstaw wyniki analizy graficznie w postaci wykresów liniowych funkcji G testowanych rozkładów punktów z zaznaczoną obwiednią wykorzystywaną w teście statystycznym. Zestaw wyniki na pojedynczej figurze (siatka wykresów 2x3). Umieść analizowane rozkłady punktów na tle granic poligonu, w obrębie którego zostały wygenerowane w górnym wierszu, a wykresy funkcji G wraz z obwiednią testu w dolnym wierszu figury.\n",
    "\n",
    "Uwagi do wykonania zadania:\n",
    "- Wszystkie z analizowanych rozkładów punktów zostały wygenerowane w obrębie granic Polski."
   ]
  },
  {
   "cell_type": "code",
   "execution_count": 26,
   "id": "321f9538-2586-423c-9896-825c5c271cb9",
   "metadata": {
    "deletable": false,
    "nbgrader": {
     "cell_type": "code",
     "checksum": "f44b5125c589c44210005300133afe9d",
     "grade": true,
     "grade_id": "cell-aaf56027e9dcf701",
     "locked": false,
     "points": 5,
     "schema_version": 3,
     "solution": true,
     "task": false
    },
    "tags": []
   },
   "outputs": [
    {
     "name": "stdout",
     "output_type": "stream",
     "text": [
      "H0: Testowana zmienna ma jednorodny rozkład losowy Poissona\n",
      "H1: Testowana zmienna nie ma jednorodnego rozkładu losowego Poissona\n",
      "Odrzucenie H0 na rzecz H1 na poziomie istotności alpha =  0.05\n"
     ]
    }
   ],
   "source": [
    "g_test_mc1 = g_test_mc(points_1, 50, kraj, 39)\n",
    "g_test_mc2 = g_test_mc(points_2, 137, kraj, 39)\n",
    "g_test_mc3 = g_test_mc(points_3, 137, kraj, 39)"
   ]
  },
  {
   "cell_type": "code",
   "execution_count": null,
   "id": "68de6789-e11a-4434-af00-9362d428e085",
   "metadata": {},
   "outputs": [],
   "source": []
  }
 ],
 "metadata": {
  "kernelspec": {
   "display_name": "Python 3 (ipykernel)",
   "language": "python",
   "name": "python3"
  },
  "language_info": {
   "codemirror_mode": {
    "name": "ipython",
    "version": 3
   },
   "file_extension": ".py",
   "mimetype": "text/x-python",
   "name": "python",
   "nbconvert_exporter": "python",
   "pygments_lexer": "ipython3",
   "version": "3.12.0"
  }
 },
 "nbformat": 4,
 "nbformat_minor": 5
}
