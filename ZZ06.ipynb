{
 "cells": [
  {
   "cell_type": "markdown",
   "id": "3a3caf23",
   "metadata": {
    "deletable": false,
    "editable": false,
    "nbgrader": {
     "cell_type": "markdown",
     "checksum": "4bc4ef312ccdd965a2df57a87c78b2a4",
     "grade": false,
     "grade_id": "cell-fcd2666579131b77",
     "locked": true,
     "schema_version": 3,
     "solution": false,
     "task": false
    },
    "tags": []
   },
   "source": [
    "# Analiza danych przestrzennych - ćwiczenia laboratoryjne 2023/2024\n",
    "\n",
    "Ten notatnik zalicza się do grupy zestawów zadań, na podstawie których odbywa się zaliczenie ćwiczeń i podlega zwrotowi do oceny w ustalonym na zajęciach terminie.\n",
    "\n",
    "Uwagi i wytyczne ogólne dotyczące uzupełniania i oceny notatnika:\n",
    "- Podczas wykonywania zadań należy korzystać wyłącznie z pakietów zaimportowanych na początku notatnika oraz z pakietów wchodzących w skład standardowej biblioteki Pythona, które można zaimportować samodzielnie we wskazanej komórce notatnika.\n",
    "- Swoje rozwiązania należy wprowadzać wyłącznie w miejce następujących fragmentów kodu:<br/> `# YOUR CODE HERE`<br/> `raise NotImplementedError()`<br/> \n",
    "a odpowiedzi tekstowe w komórkach oznaczonych hasłem:<br/> \n",
    "`YOUR ANSWER HERE`<br/> \n",
    "Nie należy w żaden sposób modyfikować pozostałych fragmentów kodu oraz innych elementów notatnika, w szczególności dodawać lub usuwać komórek oraz zmieniać nazwy pliku.\n",
    "- Jeżeli zestaw zadań wymaga skorzystania z fragmentów kodu opracowanego w ramach wcześniejszych zestawów zadań należy je umieścić we wskazanej komórce notatnika.\n",
    "- Otrzymywane wyniki i odpowiedzi mają być rezultatem wykonania napisanego kodu, odpowiedzi uzupełniane manualnie nie podlegają ocenie.\n",
    "- Zawarte w notatniku automatyczne testy mają charakter poglądowy. Dotyczą one wybranych aspektów zadań i mają na celu wyłapać podstawowe błędy. Przejście przez kod wszystkich testów nie oznacza, że zadanie jest wykonane w całości poprawnie i zostanie ocenione na maksymalną liczbę punktów.\n",
    "- Zadania należy wykonać w taki sposób, aby podczas wykonywania kodu nie zostały wyświetlone żadne ostrzeżenia.\n",
    "- Zadania, które powodują wyświetlenie komunikatu o błędzie przerywającym wykonywanie kodu nie podlegają ocenie.\n",
    "\n",
    "Uwagi i wytyczne ogólne dotyczące wizualizacji wyników:\n",
    "- Wszystkie wykresy powinny być wykonane w jednolitym, przejrzystym i czytelnym stylu, posiadać odpowiednio dobrane proporcje i zakresy wartości osi.\n",
    "- Figury powinny mieć ustawione białe tło, tak, aby niezależnie od ustawień notatnika wszystkie elementy wykresów były dobrze widoczne (domyślnie tło jest przeźroczyste co może powodować problemy w notatnikach z ustawionym ciemnym tłem). Rozmiar poziomy figur nie powinien przekraczać 20 cali.\n",
    "- Wykresy oraz ich osie powinny mieć nadane tytuły. Jeżeli w obrębie figury znajduje się więcej niż jeden wykres to figura również powinna mieć nadany tytuł.\n",
    "- Zakresy osi wykresów przedstawiających rozkłady punktów w przestrzeni powinny być docięte do granic obszaru, na którym został wygenerowany proces punktowy.\n",
    "- Proporcje osi wykresów przedstawiających rozkłady punktów w przestrzeni powinny być dobrane tak, aby wykresy odzwierciedlały rzeczywisty rozkład punktów w przestrzeni. Nie należy osiągać tego efektu manipulując rozmiarem całej figury.\n",
    "\n",
    "Przed odesłaniem zestawu zadań do oceny proszę uzupełnić komórkę z danymi autorów rozwiązania (nazwa zespołu oraz imiona, nazwiska i numery indeksów członków zespołu) oraz upewnić się, że notatnik działa zgodnie z oczekiwaniami. W tym celu należy skorzystać z opcji **Restart Kernel and Run All Cells...** dostępnej na górnej belce notatnika pod symbolem $\\blacktriangleright\\blacktriangleright$."
   ]
  },
  {
   "cell_type": "raw",
   "id": "37299917",
   "metadata": {},
   "source": [
    "Nazwa zespołu:\n",
    "Członkowie:"
   ]
  },
  {
   "cell_type": "markdown",
   "id": "c81b5086",
   "metadata": {
    "deletable": false,
    "editable": false,
    "nbgrader": {
     "cell_type": "markdown",
     "checksum": "eddc8826810e4a6f7bf68319da334bd9",
     "grade": false,
     "grade_id": "cell-109006d425e5cf83",
     "locked": true,
     "schema_version": 3,
     "solution": false,
     "task": false
    },
    "tags": []
   },
   "source": [
    "---"
   ]
  },
  {
   "cell_type": "markdown",
   "id": "d882ae69-936a-49a4-a902-2ae4df2f4d89",
   "metadata": {
    "deletable": false,
    "editable": false,
    "nbgrader": {
     "cell_type": "markdown",
     "checksum": "2c1eb90e6c2baa21aa54f3331d004136",
     "grade": false,
     "grade_id": "cell-be413733df21fa86",
     "locked": true,
     "schema_version": 3,
     "solution": false,
     "task": false
    },
    "tags": []
   },
   "source": [
    "## Zestaw zadań 6: Klasteryzacja i autokorelacja danych"
   ]
  },
  {
   "cell_type": "code",
   "execution_count": 2,
   "id": "7cfdd3da-1a13-4ed2-bda3-cd76a85ae18f",
   "metadata": {
    "deletable": false,
    "editable": false,
    "nbgrader": {
     "cell_type": "code",
     "checksum": "20d678814490313a07fb695ee6cd3361",
     "grade": false,
     "grade_id": "cell-baaf088fa7f91aec",
     "locked": true,
     "schema_version": 3,
     "solution": false,
     "task": false
    },
    "tags": []
   },
   "outputs": [],
   "source": [
    "import numpy as np\n",
    "import pandas as pd\n",
    "import scipy as sp\n",
    "import matplotlib as mpl\n",
    "import matplotlib.pyplot as plt\n",
    "import seaborn as sns\n",
    "\n",
    "import pickle\n",
    "import os\n",
    "os.environ[\"OMP_NUM_THREADS\"] = '1'\n",
    "from sklearn.cluster import KMeans"
   ]
  },
  {
   "cell_type": "code",
   "execution_count": null,
   "id": "ad7830f7-e23d-4f0e-8d49-dc26fa03742d",
   "metadata": {},
   "outputs": [],
   "source": [
    "# Miejsce do importu pakietów wchodzących w skład standardowej biblioteki Pythona oraz ustawienie opcji wykorzystywanych pakietów"
   ]
  },
  {
   "cell_type": "code",
   "execution_count": null,
   "id": "bf1b648a-9423-4903-8b13-86e1fc38c3a7",
   "metadata": {
    "deletable": false,
    "nbgrader": {
     "cell_type": "code",
     "checksum": "184016de6c951d03ab3f5c1f041015a1",
     "grade": false,
     "grade_id": "cell-a46c08df43df6fd7",
     "locked": false,
     "schema_version": 3,
     "solution": true,
     "task": false
    },
    "tags": []
   },
   "outputs": [],
   "source": [
    "# Miejsce do wklejenie funkcji ze wcześniejszych zestawów zadań\n",
    "# YOUR CODE HERE\n"
   ]
  },
  {
   "cell_type": "markdown",
   "id": "0ed92c66-bc02-4786-9a35-27bea2f61fb4",
   "metadata": {
    "deletable": false,
    "editable": false,
    "nbgrader": {
     "cell_type": "markdown",
     "checksum": "79a1534eb9fa21b90ed3d1dfec9a5fe4",
     "grade": false,
     "grade_id": "cell-bf683202cc9a7b26",
     "locked": true,
     "schema_version": 3,
     "solution": false,
     "task": false
    },
    "tags": []
   },
   "source": [
    "### Wczytanie danych\n",
    "\n",
    "Załączone do notatniki pliki zawierają następujące procesy punktowe:\n",
    " - `points_1` - wygenerowany dla zakresu współrzędnych X $[0, 10]$ i Y $[0, 10]$.\n",
    " - `points_2`, `points_3` - wygenerowane dla zakresu współrzędnych X $[0, 20]$ i Y $[0, 10]$\n",
    " \n",
    "oraz dane wykorzystywane w zawartych w notatniku automatycznych testach.\n",
    "\n",
    "W celu wczytania danych do notatnika umieść wszystkie pliki w tym samym folderze, w którym znajduje się notatnik."
   ]
  },
  {
   "cell_type": "code",
   "execution_count": 3,
   "id": "33adaec9-95a2-4f61-8658-259d267aad03",
   "metadata": {
    "deletable": false,
    "editable": false,
    "nbgrader": {
     "cell_type": "code",
     "checksum": "610dc16366f946162c61a13e106f1cc9",
     "grade": false,
     "grade_id": "cell-f4b61e64294f2025",
     "locked": true,
     "schema_version": 3,
     "solution": false,
     "task": false
    },
    "tags": []
   },
   "outputs": [],
   "source": [
    "# Wczytanie danych\n",
    "points_1 = pd.read_pickle('points_1.pkl')\n",
    "points_2 = pd.read_pickle('points_2.pkl')\n",
    "points_3 = pd.read_pickle('points_3.pkl')\n",
    "\n",
    "test_data_1 = pd.read_pickle('test_data_1.pkl')\n",
    "with open(\"test_data_2.pkl\", \"rb\") as file: \n",
    "    test_data_2 = pickle.load(file)"
   ]
  },
  {
   "cell_type": "markdown",
   "id": "f76a460b-4f10-446d-b093-61e40b452a7b",
   "metadata": {
    "deletable": false,
    "editable": false,
    "nbgrader": {
     "cell_type": "markdown",
     "checksum": "9c1b50dc16c356907ff4c060271e39b9",
     "grade": false,
     "grade_id": "cell-9a00e5c6c5b95972",
     "locked": true,
     "schema_version": 3,
     "solution": false,
     "task": false
    },
    "tags": []
   },
   "source": [
    "### Zadanie 1: Klasteryzacja metodą k-średnich (12 pkt)\n",
    "\n",
    "#### a) Przygotowanie funkcji\n",
    "Przygotuj funkcję `k_means_elbow_curve_test()`, która będzie wykonywała klasteryzację danych dla ustalonego zakresu liczby klastrów oraz obliczała dane niezbędne do wykreślenia wykresu typu elbow curve, na podstawie którego można podjąć decyzję na temat optymalnej liczby klastrów.\n",
    "\n",
    "Algorytm postępowania:\n",
    " - kolejno dzielimy metodą k-średnich rozkład punktów na rosnącą liczbę klastrów z przyjętego zakresu,\n",
    " - dla każdego z podziałów zapisujemy podział punktówna klastry oraz wyliczamy średnią odległość punktów od środków klastrów do którego zostały przypisane.\n",
    "\n",
    "Uwagi do wykonania zadania:\n",
    " - W obliczeniach skorzystaj z zaimportowanej na początku notatnika funkcji `KMeans`."
   ]
  },
  {
   "cell_type": "code",
   "execution_count": 36,
   "id": "c0758601-b30c-4889-a744-dd161d85b9bf",
   "metadata": {
    "deletable": false,
    "nbgrader": {
     "cell_type": "code",
     "checksum": "c15fc84e6c13535dcdb45030b82cb141",
     "grade": false,
     "grade_id": "cell-78e7ea53a61f9b34",
     "locked": false,
     "schema_version": 3,
     "solution": true,
     "task": false
    },
    "tags": []
   },
   "outputs": [],
   "source": [
    "def k_means_elbow_curve_test(points, number_of_clusters):\n",
    "    \"\"\"\n",
    "    Parameters\n",
    "    -------\n",
    "    points: DataFrame\n",
    "        Tablica zawierająca dwie kolumny ze współrzędnymi punktów opisane jako \"X\" i \"Y\".\n",
    "    number_of_clusters: list\n",
    "        Lista określająca zakres testowanej liczby klastrów.\n",
    "        Przykład: [1, 5]   \n",
    "\n",
    "    Returns\n",
    "    -------\n",
    "    clusters: DataFrame\n",
    "        Tablica zbierająca wyniki klasteryzacji w następujących kolumnach:\n",
    "        - \"X\" - współrzędne X punktów,\n",
    "        - \"Y\" - współrzedne Y punktów,\n",
    "        - kolejne kolumny (ich liczba zależy od liczby testowanych liczebności klastrów) opisane są jako liczba klastrów,\n",
    "        np. \"1\", \"2\", itd. i zawierają numery klastrów, do których zostały przyporządkowane konkretne punkty.\n",
    "    elbow_curve: DataFrame\n",
    "        Tablica zbierająca dane niebędne do wykonania wykresu elbow curve w dwóch kolumnach:\n",
    "        - \"N\" - liczba klastrów,\n",
    "        - \"D(N)\" - średnia odległość punktów od centrów klastrów, do których zostały przypisane.\n",
    "    \"\"\"\n",
    "    clusters = points.copy()\n",
    "    elbow_curve= pd.DataFrame({\"N\":range(number_of_clusters[0], number_of_clusters[1]+1), \"D(N)\":[0]*(number_of_clusters[1]-number_of_clusters[0]+1)})\n",
    "    for num in range(number_of_clusters[0], number_of_clusters[1]+1):\n",
    "        kmeans=KMeans(n_clusters=num).fit(points)\n",
    "        clusters[str(num)]=kmeans.labels_\n",
    "        distances = np.min(kmeans.transform(points), axis=1)\n",
    "        elbow_curve[\"D(N)\"][num-number_of_clusters[0]]=np.mean(distances)\n",
    "    return clusters, elbow_curve "
   ]
  },
  {
   "cell_type": "code",
   "execution_count": 27,
   "id": "baf6aa80-afbd-47f0-9f79-40c0dc784c07",
   "metadata": {
    "deletable": false,
    "editable": false,
    "nbgrader": {
     "cell_type": "code",
     "checksum": "ef8f2bb45b94c814e8980ce3f4169d93",
     "grade": true,
     "grade_id": "cell-c9e9bc38696b0dc1",
     "locked": true,
     "points": 9,
     "schema_version": 3,
     "solution": false,
     "task": false
    },
    "tags": []
   },
   "outputs": [
    {
     "name": "stderr",
     "output_type": "stream",
     "text": [
      "C:\\Users\\Iza\\AppData\\Local\\Programs\\Python\\Python310\\lib\\site-packages\\sklearn\\cluster\\_kmeans.py:1416: FutureWarning: The default value of `n_init` will change from 10 to 'auto' in 1.4. Set the value of `n_init` explicitly to suppress the warning\n",
      "  super()._check_params_vs_input(X, default_n_init=10)\n",
      "C:\\Users\\Iza\\AppData\\Local\\Temp\\ipykernel_19820\\1866492031.py:30: FutureWarning: Setting an item of incompatible dtype is deprecated and will raise in a future error of pandas. Value '1.414785579753467' has dtype incompatible with int64, please explicitly cast to a compatible dtype first.\n",
      "  elbow_curve[\"D(N)\"][num-number_of_clusters[0]]=np.mean(distances)\n",
      "C:\\Users\\Iza\\AppData\\Local\\Programs\\Python\\Python310\\lib\\site-packages\\sklearn\\cluster\\_kmeans.py:1416: FutureWarning: The default value of `n_init` will change from 10 to 'auto' in 1.4. Set the value of `n_init` explicitly to suppress the warning\n",
      "  super()._check_params_vs_input(X, default_n_init=10)\n",
      "C:\\Users\\Iza\\AppData\\Local\\Programs\\Python\\Python310\\lib\\site-packages\\sklearn\\cluster\\_kmeans.py:1416: FutureWarning: The default value of `n_init` will change from 10 to 'auto' in 1.4. Set the value of `n_init` explicitly to suppress the warning\n",
      "  super()._check_params_vs_input(X, default_n_init=10)\n",
      "C:\\Users\\Iza\\AppData\\Local\\Programs\\Python\\Python310\\lib\\site-packages\\sklearn\\cluster\\_kmeans.py:1416: FutureWarning: The default value of `n_init` will change from 10 to 'auto' in 1.4. Set the value of `n_init` explicitly to suppress the warning\n",
      "  super()._check_params_vs_input(X, default_n_init=10)\n"
     ]
    },
    {
     "name": "stdout",
     "output_type": "stream",
     "text": [
      "    N      D(N)\n",
      "0   5  1.414786\n",
      "1   6  1.237796\n",
      "2   7  1.073668\n",
      "3   8  0.918966\n",
      "4   9  0.827932\n",
      "5  10  0.776439\n",
      "           X         Y  5  6  7  8  9  10\n",
      "0   6.076796  4.937052  4  3  5  3  1   5\n",
      "1   6.602758  6.415737  4  3  5  3  1   5\n",
      "2   5.629326  5.016091  4  0  5  3  1   5\n",
      "3   6.390938  6.619061  4  3  5  3  1   5\n",
      "4   5.763101  4.820154  4  0  5  3  1   5\n",
      "..       ...       ... .. .. .. .. ..  ..\n",
      "27  6.431834  0.179155  2  2  4  2  3   2\n",
      "28  6.303353  1.020388  2  2  4  2  3   2\n",
      "29  6.254232  0.020554  2  2  4  2  3   2\n",
      "31  6.315451  0.551367  2  2  4  2  3   2\n",
      "32  6.950674  0.484357  2  2  4  2  3   2\n",
      "\n",
      "[422 rows x 8 columns]\n"
     ]
    },
    {
     "name": "stderr",
     "output_type": "stream",
     "text": [
      "C:\\Users\\Iza\\AppData\\Local\\Programs\\Python\\Python310\\lib\\site-packages\\sklearn\\cluster\\_kmeans.py:1416: FutureWarning: The default value of `n_init` will change from 10 to 'auto' in 1.4. Set the value of `n_init` explicitly to suppress the warning\n",
      "  super()._check_params_vs_input(X, default_n_init=10)\n",
      "C:\\Users\\Iza\\AppData\\Local\\Programs\\Python\\Python310\\lib\\site-packages\\sklearn\\cluster\\_kmeans.py:1416: FutureWarning: The default value of `n_init` will change from 10 to 'auto' in 1.4. Set the value of `n_init` explicitly to suppress the warning\n",
      "  super()._check_params_vs_input(X, default_n_init=10)\n"
     ]
    }
   ],
   "source": [
    "# Komórka testowa\n",
    "test_clusters, test_curve = k_means_elbow_curve_test(test_data_1, [5,10])\n",
    "\n",
    "assert type(test_clusters) == pd.DataFrame\n",
    "assert test_clusters.shape == (422, 8)\n",
    "assert list(test_clusters.columns) == ['X', 'Y', '5', '6', '7', '8', '9', '10']\n",
    "assert np.all(np.isclose(test_clusters.values.min(axis=0), [0.00334047, 0.00208988, 0., 0., 0., 0., 0., 0.]))\n",
    "assert np.all(np.isclose(test_clusters.values.max(axis=0), [9.9872809 , 9.95742835, 4., 5., 6., 7., 8., 9.]))\n",
    "\n",
    "assert type(test_curve) == pd.DataFrame\n",
    "assert test_curve.shape == (6, 2)\n",
    "assert list(test_curve.columns) == ['N', 'D(N)']\n",
    "assert np.all(np.isclose(test_curve[\"N\"].values, [ 5.,  6.,  7.,  8.,  9., 10.]))\n",
    "assert np.all(np.isclose(test_curve[\"D(N)\"].values, [1.41450655, 1.23779644, 1.07175469, 0.91896647, 0.82793203, 0.77643928], rtol=1e-01, atol=1e-04))"
   ]
  },
  {
   "cell_type": "markdown",
   "id": "cc4950d5-9bfb-4a46-a6e2-18d639e42869",
   "metadata": {
    "deletable": false,
    "editable": false,
    "nbgrader": {
     "cell_type": "markdown",
     "checksum": "9f52686d56d36ec8552ccbef1295094c",
     "grade": false,
     "grade_id": "cell-dbde34f83165003a",
     "locked": true,
     "schema_version": 3,
     "solution": false,
     "task": false
    },
    "tags": []
   },
   "source": [
    "#### b) Wygenerowanie i wizualizacja danych\n",
    "\n",
    "Wykorzystaj przygotowaną funkcję do podzielenia na optymalną liczbę klastrów rozkładu punktów `points_1`. Dobierz zakres testowanej liczby klastrów tak, aby na wykresie elbow curve wyraźnie zaznaczał się punkt przegięcia krzywej.\n",
    "\n",
    "Przedstaw wyniki analizy graficznie w postaci wykresu liniowego (elbow curve) oraz rozkładu punktów podzielonego na optymalną liczbę wyróżnionych kolorem klastrów. Zestaw wyniki na pojedynczej figurze (siatka wykresów 1x2)."
   ]
  },
  {
   "cell_type": "code",
   "execution_count": 78,
   "id": "e22318e9-1bc7-406e-b032-5b20c4858ac1",
   "metadata": {
    "deletable": false,
    "nbgrader": {
     "cell_type": "code",
     "checksum": "87fb5c785a10b1ae76ba8bacf4dd6de1",
     "grade": true,
     "grade_id": "cell-7918cfee9051bcb4",
     "locked": false,
     "points": 3,
     "schema_version": 3,
     "solution": true,
     "task": false
    },
    "tags": []
   },
   "outputs": [
    {
     "name": "stderr",
     "output_type": "stream",
     "text": [
      "C:\\Users\\Iza\\AppData\\Local\\Programs\\Python\\Python310\\lib\\site-packages\\sklearn\\cluster\\_kmeans.py:1416: FutureWarning: The default value of `n_init` will change from 10 to 'auto' in 1.4. Set the value of `n_init` explicitly to suppress the warning\n",
      "  super()._check_params_vs_input(X, default_n_init=10)\n",
      "C:\\Users\\Iza\\AppData\\Local\\Temp\\ipykernel_19820\\1624467406.py:30: FutureWarning: Setting an item of incompatible dtype is deprecated and will raise in a future error of pandas. Value '3.3490358023329856' has dtype incompatible with int64, please explicitly cast to a compatible dtype first.\n",
      "  elbow_curve[\"D(N)\"][num-number_of_clusters[0]]=np.mean(distances)\n",
      "C:\\Users\\Iza\\AppData\\Local\\Programs\\Python\\Python310\\lib\\site-packages\\sklearn\\cluster\\_kmeans.py:1416: FutureWarning: The default value of `n_init` will change from 10 to 'auto' in 1.4. Set the value of `n_init` explicitly to suppress the warning\n",
      "  super()._check_params_vs_input(X, default_n_init=10)\n",
      "C:\\Users\\Iza\\AppData\\Local\\Programs\\Python\\Python310\\lib\\site-packages\\sklearn\\cluster\\_kmeans.py:1416: FutureWarning: The default value of `n_init` will change from 10 to 'auto' in 1.4. Set the value of `n_init` explicitly to suppress the warning\n",
      "  super()._check_params_vs_input(X, default_n_init=10)\n",
      "C:\\Users\\Iza\\AppData\\Local\\Programs\\Python\\Python310\\lib\\site-packages\\sklearn\\cluster\\_kmeans.py:1416: FutureWarning: The default value of `n_init` will change from 10 to 'auto' in 1.4. Set the value of `n_init` explicitly to suppress the warning\n",
      "  super()._check_params_vs_input(X, default_n_init=10)\n",
      "C:\\Users\\Iza\\AppData\\Local\\Programs\\Python\\Python310\\lib\\site-packages\\sklearn\\cluster\\_kmeans.py:1416: FutureWarning: The default value of `n_init` will change from 10 to 'auto' in 1.4. Set the value of `n_init` explicitly to suppress the warning\n",
      "  super()._check_params_vs_input(X, default_n_init=10)\n",
      "C:\\Users\\Iza\\AppData\\Local\\Programs\\Python\\Python310\\lib\\site-packages\\sklearn\\cluster\\_kmeans.py:1416: FutureWarning: The default value of `n_init` will change from 10 to 'auto' in 1.4. Set the value of `n_init` explicitly to suppress the warning\n",
      "  super()._check_params_vs_input(X, default_n_init=10)\n",
      "C:\\Users\\Iza\\AppData\\Local\\Programs\\Python\\Python310\\lib\\site-packages\\sklearn\\cluster\\_kmeans.py:1416: FutureWarning: The default value of `n_init` will change from 10 to 'auto' in 1.4. Set the value of `n_init` explicitly to suppress the warning\n",
      "  super()._check_params_vs_input(X, default_n_init=10)\n"
     ]
    },
    {
     "data": {
      "text/plain": [
       "<matplotlib.legend.Legend at 0x140ff798a90>"
      ]
     },
     "execution_count": 78,
     "metadata": {},
     "output_type": "execute_result"
    },
    {
     "data": {
      "image/png": "[encoded data removed]",
      "text/plain": [
       "<Figure size 1500x1000 with 2 Axes>"
      ]
     },
     "metadata": {},
     "output_type": "display_data"
    }
   ],
   "source": [
    "clusters, curve = k_means_elbow_curve_test(points_1, [1,7])\n",
    "\n",
    "figure,axes = plt.subplots(1,2,figsize=(15,10))\n",
    "\n",
    "axes[0].axis(\"square\")\n",
    "axes[0].set_title(\"Elbow curve plot\")\n",
    "axes[0].set_xlim(1,7)\n",
    "axes[0].set_ylim(np.min(curve[\"D(N)\"])-0.3,np.max(curve[\"D(N)\"])+0.3)\n",
    "axes[0].set_xlabel(\"N\")\n",
    "axes[0].set_ylabel(\"D(N)\")\n",
    "axes[0].plot(curve[\"N\"], curve[\"D(N)\"])\n",
    "\n",
    "axes[1].axis(\"square\")\n",
    "axes[1].set_title(\"Plot for 4 clusters\")\n",
    "axes[1].set_xlim(np.min(clusters[\"X\"]),np.max(clusters[\"X\"]))\n",
    "axes[1].set_ylim(np.min(clusters[\"Y\"]),np.max(clusters[\"Y\"]))\n",
    "axes[1].set_xlabel(\"X\")\n",
    "axes[1].set_ylabel(\"Y\")\n",
    "sns.scatterplot(clusters, x=\"X\", y=\"Y\", hue =clusters[\"4\"], palette=\"Paired\", ax=axes[1], s=20, linewidth=0)\n",
    "plt.legend(title='Cluster ID')"
   ]
  },
  {
   "attachments": {
    "d0bd5a5a-b98c-4007-a244-3c92f2a31c68.png": {
     "image/png": "[encoded data removed]"
    }
   },
   "cell_type": "markdown",
   "id": "b9883dfb-94ed-4362-9413-00fbe4586990",
   "metadata": {
    "deletable": false,
    "editable": false,
    "nbgrader": {
     "cell_type": "markdown",
     "checksum": "818a7e357c549ed729de923acee0a937",
     "grade": false,
     "grade_id": "cell-2eb07a3a740415d8",
     "locked": true,
     "schema_version": 3,
     "solution": false,
     "task": false
    },
    "tags": []
   },
   "source": [
    "### Zadanie 2: Tablica sąsiedztwa (10 pkt)\n",
    "\n",
    "Przygotuj funkcję `spatial_weights()`, która będzie przygotowywać tablicę sąsiedztwa podobszarów dla danych zagregowanych na regularnej siatce prostokątnej.\n",
    "\n",
    "Schemat generowania tablicy sąsiedztwa:\n",
    "\n",
    "![image.png](attachment:d0bd5a5a-b98c-4007-a244-3c92f2a31c68.png)"
   ]
  },
  {
   "cell_type": "code",
   "execution_count": null,
   "id": "52cc945f-2e1e-4d33-a1f7-24f4e2f9310b",
   "metadata": {
    "deletable": false,
    "nbgrader": {
     "cell_type": "code",
     "checksum": "3bb7bc40ce54bd2b2b7d5b19a57ff4fb",
     "grade": false,
     "grade_id": "cell-0df5ac103ebf4f6a",
     "locked": false,
     "schema_version": 3,
     "solution": true,
     "task": false
    },
    "tags": []
   },
   "outputs": [],
   "source": [
    "def spatial_weights(bin_counts):\n",
    "    \"\"\"\n",
    "    Parameters\n",
    "    -------\n",
    "    bin_counts: array\n",
    "        Macierz 2D z liczbą punków przypisanych do każdego z podobszarów.\n",
    "\n",
    "    Returns\n",
    "    -------\n",
    "    w: array\n",
    "        Macierz 2D zawierająca wagi przestrzenne.\n",
    "    \"\"\"    \n",
    "    # YOUR CODE HERE\n",
    "    raise NotImplementedError()"
   ]
  },
  {
   "cell_type": "code",
   "execution_count": null,
   "id": "cecc35c1-3f52-4782-bcc9-97c06e334379",
   "metadata": {
    "deletable": false,
    "editable": false,
    "nbgrader": {
     "cell_type": "code",
     "checksum": "3c041c5346c592c7bea2fe6fc6b24537",
     "grade": true,
     "grade_id": "cell-6b6eb2e4fd51ed70",
     "locked": true,
     "points": 10,
     "schema_version": 3,
     "solution": false,
     "task": false
    },
    "tags": []
   },
   "outputs": [],
   "source": [
    "# Komórka testowa\n",
    "test_w = spatial_weights(test_data_2[0])\n",
    "assert test_w.shape == (12, 12)\n",
    "assert np.all(np.isclose(test_w, np.array([[0., 1., 0., 0., 1., 0., 0., 0., 0., 0., 0., 0.],\n",
    "                                           [1., 0., 1., 0., 0., 1., 0., 0., 0., 0., 0., 0.],\n",
    "                                           [0., 1., 0., 1., 0., 0., 1., 0., 0., 0., 0., 0.],\n",
    "                                           [0., 0., 1., 0., 0., 0., 0., 1., 0., 0., 0., 0.],\n",
    "                                           [1., 0., 0., 0., 0., 1., 0., 0., 1., 0., 0., 0.],\n",
    "                                           [0., 1., 0., 0., 1., 0., 1., 0., 0., 1., 0., 0.],\n",
    "                                           [0., 0., 1., 0., 0., 1., 0., 1., 0., 0., 1., 0.],\n",
    "                                           [0., 0., 0., 1., 0., 0., 1., 0., 0., 0., 0., 1.],\n",
    "                                           [0., 0., 0., 0., 1., 0., 0., 0., 0., 1., 0., 0.],\n",
    "                                           [0., 0., 0., 0., 0., 1., 0., 0., 1., 0., 1., 0.],\n",
    "                                           [0., 0., 0., 0., 0., 0., 1., 0., 0., 1., 0., 1.],\n",
    "                                           [0., 0., 0., 0., 0., 0., 0., 1., 0., 0., 1., 0.]])))"
   ]
  },
  {
   "cell_type": "markdown",
   "id": "16dfeb98-6435-4b62-8028-6a8b8a416a36",
   "metadata": {
    "deletable": false,
    "editable": false,
    "nbgrader": {
     "cell_type": "markdown",
     "checksum": "58d40abecccff148beb9f86db77e2656",
     "grade": false,
     "grade_id": "cell-490a1d371feee973",
     "locked": true,
     "schema_version": 3,
     "solution": false,
     "task": false
    },
    "tags": []
   },
   "source": [
    "### Zadanie 3: Opóźnienie przestrzenne (6 pkt)\n",
    "Przygotuj funkcję `spatial_lag()`, która będzie przygotowywać tablicę wartości opóźnienia przestrzennego dla danych zagregowanych na regularnej siatce prostokątnej.\n",
    "\n",
    "Algorytm postępowania:\n",
    "1) Spłaszczamy macierz zliczeń w podobszarach.\n",
    "2) Obliczamy poszczególne wartości tablicy opóźnienia przestrzennego zgodnie ze wzorem: <br/>\n",
    "$ LC_{i} = \\frac {\\sum_j w_{ij} \\cdot X_j} {\\sum_j w_{ij}}$  <br/>\n",
    "gdzie: $w$ - macierz sąsiedztwa, $X$ - spłaszczona macierz zliczeń w podobszarach. \n",
    "3) Konwertujemy tablicę opóźnienia przestrzennego do tych samych wymiarów jakie miała wejściowa macierz zliczeń w podobszarach."
   ]
  },
  {
   "cell_type": "code",
   "execution_count": null,
   "id": "ac9c58ba-1109-4d6e-befd-1393bcdd6f91",
   "metadata": {
    "deletable": false,
    "nbgrader": {
     "cell_type": "code",
     "checksum": "3d6e505f2ee51dd45fffb0ac6878941e",
     "grade": false,
     "grade_id": "cell-992c3484b24ee67e",
     "locked": false,
     "schema_version": 3,
     "solution": true,
     "task": false
    },
    "tags": []
   },
   "outputs": [],
   "source": [
    "def spatial_lag(binned_data):\n",
    "    \"\"\"\n",
    "    Parameters\n",
    "    -------\n",
    "    binned_data: list\n",
    "        Lista zawierająca trzy macierze:\n",
    "        - 2D z liczbą punków przypisanych do każdego z podobszarów.\n",
    "        - 1D ze współrzędnymi krawędzi podobszarów na osi X,\n",
    "        - 1D ze współrzędnymi krawędzi podobszarów na osi Y,\n",
    "        Na przykład: [array([[7, 2], [4, 5]]), array([0, 1, 2]), array([0, 1, 2])]\n",
    "\n",
    "    Returns\n",
    "    -------\n",
    "    lagged_data: list\n",
    "        Lista zawierająca trzy macierze:\n",
    "        - 2D z wyliczonymi wartościami opóźnienia przestrzennego.\n",
    "        - 1D ze współrzędnymi krawędzi podobszarów na osi X,\n",
    "        - 1D ze współrzędnymi krawędzi podobszarów na osi Y,\n",
    "        Na przykład: [array([[3, 5], [2, 8]]), array([0, 1, 2]), array([0, 1, 2])]\n",
    "    \"\"\"    \n",
    "    # YOUR CODE HERE\n",
    "    raise NotImplementedError()"
   ]
  },
  {
   "cell_type": "code",
   "execution_count": null,
   "id": "6df23772-5cd7-4f81-8b24-6042c46d4132",
   "metadata": {
    "deletable": false,
    "editable": false,
    "nbgrader": {
     "cell_type": "code",
     "checksum": "21897185e0da1c0ec45473bac1670df7",
     "grade": true,
     "grade_id": "cell-80716fdc9f2129a4",
     "locked": true,
     "points": 6,
     "schema_version": 3,
     "solution": false,
     "task": false
    },
    "tags": []
   },
   "outputs": [],
   "source": [
    "# Komórka testowa\n",
    "test_data_2_lagged = spatial_lag(test_data_2)\n",
    "assert type(test_data_2_lagged) == list\n",
    "assert len(test_data_2_lagged) == 3\n",
    "assert np.all(np.isclose(test_data_2_lagged[0], np.array([[20.        , 59.        , 43.        , 68.        ],\n",
    "                                                           [23.33333333, 26.5       , 43.75      , 44.33333333],\n",
    "                                                           [13.        , 18.33333333, 33.        , 15.5       ]])))\n",
    "assert np.all(np.isclose(test_data_2_lagged[1], np.array([-4., -2.,  0.,  2.,  4.])))\n",
    "assert np.all(np.isclose(test_data_2_lagged[2], np.array([ 4.,  6.,  8., 10.])))"
   ]
  },
  {
   "cell_type": "markdown",
   "id": "013ffea6-ee4e-4e76-bb01-f15753c84c6a",
   "metadata": {
    "deletable": false,
    "editable": false,
    "nbgrader": {
     "cell_type": "markdown",
     "checksum": "4fc09cceb6a892f7a586e2c16b6e1a13",
     "grade": false,
     "grade_id": "cell-701e6152994b3409",
     "locked": true,
     "schema_version": 3,
     "solution": false,
     "task": false
    },
    "tags": []
   },
   "source": [
    "### Zadanie 4: Przygotowanie dany do wykresu Morana (2 pkt)\n",
    "\n",
    "Przygotuj funckję `moran_plot_data()`, która będzie przygotowywać dane niezbędne do wykonania wykresu Morana.\n",
    "\n",
    "Algorytm postępowania:\n",
    " - spłaszczamy macierz zliczeń w podobszarach i od wszystkich wartości odejmujemy ich wartość średnią,\n",
    " - spłaszczamy macierz opóźnienia przestrzennego i od wszystkich wartości odejmujemy ich wartość średnią."
   ]
  },
  {
   "cell_type": "code",
   "execution_count": null,
   "id": "6e5a6ec3-940b-4a97-a5db-542729b19644",
   "metadata": {
    "deletable": false,
    "nbgrader": {
     "cell_type": "code",
     "checksum": "8ce37d703db7f14e3491e7f7f57e0178",
     "grade": false,
     "grade_id": "cell-c9554ce881d7b258",
     "locked": false,
     "schema_version": 3,
     "solution": true,
     "task": false
    },
    "tags": []
   },
   "outputs": [],
   "source": [
    "def moran_plot_data(bin_counts, lagged_counts):\n",
    "    \"\"\"\n",
    "    Parameters\n",
    "    -------\n",
    "    bin_counts: array\n",
    "        Macierz 2D z liczbą punków przypisanych do każdego z podobszarów.\n",
    "    lagged_counts: array\n",
    "        Macierz 2D z wartościami opóźnienia przestrzennego przypisanego do każdego z podobszarów.\n",
    "\n",
    "    Returns\n",
    "    -------\n",
    "    moran_plot_data: DataFrame\n",
    "        Tablica zawierająca dwie kolumny danych niebędnych do wykonania wykresu Morana:\n",
    "        - \"AG_STD\" - ustandarywowane dane zagregowane,\n",
    "        - \"SL_STD\" - ustandarywzowane wartości opóźnienia przestrzennego.\n",
    "    \"\"\" \n",
    "    # YOUR CODE HERE\n",
    "    raise NotImplementedError()"
   ]
  },
  {
   "cell_type": "code",
   "execution_count": null,
   "id": "0f31c280-d935-4587-ba16-752e8780b1fe",
   "metadata": {
    "deletable": false,
    "editable": false,
    "nbgrader": {
     "cell_type": "code",
     "checksum": "f495a33d8e782abf94d9dc133818c388",
     "grade": true,
     "grade_id": "cell-6d66b94f12333d29",
     "locked": true,
     "points": 2,
     "schema_version": 3,
     "solution": false,
     "task": false
    },
    "tags": []
   },
   "outputs": [],
   "source": [
    "# Komórka testowa\n",
    "test_data_2_moran = moran_plot_data(test_data_2[0], test_data_2_lagged[0])\n",
    "assert type(test_data_2_moran) == pd.DataFrame\n",
    "assert test_data_2_moran.shape == (12, 2)\n",
    "assert list(test_data_2_moran.columns) == ['AG_STD', 'SL_STD']\n",
    "test_data_2_moran[\"AG_STD\"].values\n",
    "assert np.all(np.isclose(test_data_2_moran[\"AG_STD\"].values, [ -1.33333333,  -5.33333333,  88.66666667,  14.66666667,\n",
    "                                                           -23.33333333, -13.33333333,  16.66666667, -21.33333333,\n",
    "                                                           -18.33333333, -19.33333333, -16.33333333,  -1.33333333]))\n",
    "assert np.all(np.isclose(test_data_2_moran[\"SL_STD\"].values, [-13.97916667,  25.02083333,   9.02083333,  34.02083333,\n",
    "                                                           -10.64583333,  -7.47916667,   9.77083333,  10.35416667,\n",
    "                                                           -20.97916667, -15.64583333,  -0.97916667, -18.47916667]))"
   ]
  },
  {
   "cell_type": "markdown",
   "id": "fd8a49e5-01f5-4704-9fb6-ef380d55da4b",
   "metadata": {
    "tags": []
   },
   "source": [
    "### Zadanie 5: Autokorelacja danych przestrzennych (10 pkt)\n",
    "\n",
    "Przeprowadź analizę autokorelacji rozkładów `points_2` i `points_3`. W tym celu:\n",
    "- Zagreguj dane rozkładu na siatce prostokątnej ustawiając podział całego obszaru, na którym zostały wygenerowane punkty na 40 podobszarów wzdłuż osi $X$ i 20 podobszarów wzdłuż osi $Y$. \n",
    "- Wygenerowuj tablicę wag przestrzennych zagregowanych danych.\n",
    "- Wylicz wartości opóźnienia przestrzennego zagregowanych danych.\n",
    "- Przygotuj dane niezbędne do wykonania wykesu Morana.\n",
    "\n",
    "Przedstaw wyniki analizy graficznie w postaci wykresów Morana zestawionych z danymi zagregowanymi oraz opóźnieniem przestrzennym przedstawionymi w postaci histogramów dwuwymiarowych z nałożonymi na nie rozkładami punktów na podstawie, których zostały wykonane.\n",
    "\n",
    "Zestaw wyniki na pojedynczej figurze (siatka wykresów 3x2). Umieść zagreowane dane w górnym, opóźnienie przestrzenne w środkowym, a wykresy Morana w dolnym wierszu figury. Dla wszystkich histogramów ustaw tę samą skalę kolorów z identycznym zakresem wartości ustalonym na podstawie minimalnej i maksymalnej wartości zliczeń i opóźnienia przestrzennego wyznaczonej dla kompletu analizowanych rozkładów. Ustaw identyczne zakresy osi obu wykresów Morana oraz dodaj do tych wykresów osie układu współrzędnych w postaci pionowej i poziomej linii przechodzących przez początek układu współrzędnych. \n",
    "\n",
    "Uwagi do wykonania zadania:\n",
    "- W części zadania dotyczącej agregacji danych na siatce prostokątnej nie należy pisać kodu od podstaw, a jedynie skorzystać z przygotowanej wcześniej funkcji `point_count_on_subregions()`, którą można wkleić we wskazanej komórce na początku notatnika.\n",
    "- Wykres Morana to zestawienie wartości z macierzy zliczeń ustandaryzowanych poprzez odjęcie od nich ich wartości średniej (oś x) z wartościami z macierzy opóźnienia przestrzennego ustandaryzowanych poprzez odjęcie od nich ich wartości średniej (oś y) z nałożoną na nie prostą regresji."
   ]
  },
  {
   "cell_type": "code",
   "execution_count": null,
   "id": "8327a1f4-fe3f-4167-9464-b42903105db6",
   "metadata": {
    "deletable": false,
    "nbgrader": {
     "cell_type": "code",
     "checksum": "6b29acda787d073a57eeebb370b289e2",
     "grade": true,
     "grade_id": "cell-7375e584f08bd0c9",
     "locked": false,
     "points": 10,
     "schema_version": 3,
     "solution": true,
     "task": false
    },
    "tags": []
   },
   "outputs": [],
   "source": [
    "# YOUR CODE HERE\n",
    "raise NotImplementedError()"
   ]
  }
 ],
 "metadata": {
  "kernelspec": {
   "display_name": "Python 3 (ipykernel)",
   "language": "python",
   "name": "python3"
  },
  "language_info": {
   "codemirror_mode": {
    "name": "ipython",
    "version": 3
   },
   "file_extension": ".py",
   "mimetype": "text/x-python",
   "name": "python",
   "nbconvert_exporter": "python",
   "pygments_lexer": "ipython3",
   "version": "3.10.0rc2"
  }
 },
 "nbformat": 4,
 "nbformat_minor": 5
}
